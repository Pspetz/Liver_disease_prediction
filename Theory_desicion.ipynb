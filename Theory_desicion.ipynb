{
 "cells": [
  {
   "cell_type": "code",
   "execution_count": 418,
   "metadata": {},
   "outputs": [],
   "source": [
    "import pandas as pd \n",
    "import numpy as np\n",
    "from matplotlib import pyplot as plt"
   ]
  },
  {
   "cell_type": "code",
   "execution_count": 419,
   "metadata": {},
   "outputs": [],
   "source": [
    "csv = pd.read_csv(\"Indian Liver Patient Dataset (ILPD).csv\",header=None)"
   ]
  },
  {
   "cell_type": "code",
   "execution_count": 420,
   "metadata": {},
   "outputs": [
    {
     "name": "stdout",
     "output_type": "stream",
     "text": [
      "<class 'pandas.core.frame.DataFrame'>\n",
      "RangeIndex: 583 entries, 0 to 582\n",
      "Data columns (total 11 columns):\n",
      " #   Column                Non-Null Count  Dtype  \n",
      "---  ------                --------------  -----  \n",
      " 0   Age                   583 non-null    int64  \n",
      " 1   Gender                583 non-null    object \n",
      " 2   Tb_Bilirubin          583 non-null    float64\n",
      " 3   DB_Bilirubin          583 non-null    float64\n",
      " 4   Alkaline_Phosphotase  583 non-null    int64  \n",
      " 5   Sgpt                  583 non-null    int64  \n",
      " 6   Sgot                  583 non-null    int64  \n",
      " 7   Protiens              583 non-null    float64\n",
      " 8   Albumin               583 non-null    float64\n",
      " 9   Albumin_Globulin      579 non-null    float64\n",
      " 10  Disease               583 non-null    int64  \n",
      "dtypes: float64(5), int64(5), object(1)\n",
      "memory usage: 50.2+ KB\n"
     ]
    },
    {
     "data": {
      "text/plain": [
       "Age                     0\n",
       "Gender                  0\n",
       "Tb_Bilirubin            0\n",
       "DB_Bilirubin            0\n",
       "Alkaline_Phosphotase    0\n",
       "Sgpt                    0\n",
       "Sgot                    0\n",
       "Protiens                0\n",
       "Albumin                 0\n",
       "Albumin_Globulin        4\n",
       "Disease                 0\n",
       "dtype: int64"
      ]
     },
     "execution_count": 420,
     "metadata": {},
     "output_type": "execute_result"
    }
   ],
   "source": [
    "csv.columns=[\"Age\",'Gender','Tb_Bilirubin','DB_Bilirubin','Alkaline_Phosphotase','Sgpt ','Sgot','Protiens','Albumin','Albumin_Globulin','Disease']\n",
    "\n",
    "#Missing Values\n",
    "csv.info()\n",
    "csv.isna().sum()"
   ]
  },
  {
   "cell_type": "code",
   "execution_count": 421,
   "metadata": {},
   "outputs": [
    {
     "name": "stdout",
     "output_type": "stream",
     "text": [
      "<class 'pandas.core.frame.DataFrame'>\n",
      "RangeIndex: 583 entries, 0 to 582\n",
      "Data columns (total 11 columns):\n",
      " #   Column                Non-Null Count  Dtype  \n",
      "---  ------                --------------  -----  \n",
      " 0   Age                   583 non-null    int64  \n",
      " 1   Gender                583 non-null    object \n",
      " 2   Tb_Bilirubin          583 non-null    float64\n",
      " 3   DB_Bilirubin          583 non-null    float64\n",
      " 4   Alkaline_Phosphotase  583 non-null    int64  \n",
      " 5   Sgpt                  583 non-null    int64  \n",
      " 6   Sgot                  583 non-null    int64  \n",
      " 7   Protiens              583 non-null    float64\n",
      " 8   Albumin               583 non-null    float64\n",
      " 9   Albumin_Globulin      583 non-null    float64\n",
      " 10  Disease               583 non-null    int64  \n",
      "dtypes: float64(5), int64(5), object(1)\n",
      "memory usage: 50.2+ KB\n"
     ]
    },
    {
     "data": {
      "text/plain": [
       "Age                     0\n",
       "Gender                  0\n",
       "Tb_Bilirubin            0\n",
       "DB_Bilirubin            0\n",
       "Alkaline_Phosphotase    0\n",
       "Sgpt                    0\n",
       "Sgot                    0\n",
       "Protiens                0\n",
       "Albumin                 0\n",
       "Albumin_Globulin        0\n",
       "Disease                 0\n",
       "dtype: int64"
      ]
     },
     "execution_count": 421,
     "metadata": {},
     "output_type": "execute_result"
    }
   ],
   "source": [
    "csv['Albumin_Globulin'] = csv['Albumin_Globulin'].fillna(csv['Albumin_Globulin'].mean())\n",
    "csv.info()\n",
    "csv.isna().sum()"
   ]
  },
  {
   "cell_type": "code",
   "execution_count": 422,
   "metadata": {},
   "outputs": [],
   "source": [
    "#replace Gender female with 1 and Male with 0\n",
    "for i in csv['Gender']:\n",
    "    if i=='Female':\n",
    "        csv = csv.replace('Female',1)\n",
    "    else:\n",
    "        csv =csv.replace('Male',0)\n",
    "        "
   ]
  },
  {
   "cell_type": "code",
   "execution_count": 423,
   "metadata": {},
   "outputs": [
    {
     "data": {
      "text/html": [
       "<div>\n",
       "<style scoped>\n",
       "    .dataframe tbody tr th:only-of-type {\n",
       "        vertical-align: middle;\n",
       "    }\n",
       "\n",
       "    .dataframe tbody tr th {\n",
       "        vertical-align: top;\n",
       "    }\n",
       "\n",
       "    .dataframe thead th {\n",
       "        text-align: right;\n",
       "    }\n",
       "</style>\n",
       "<table border=\"1\" class=\"dataframe\">\n",
       "  <thead>\n",
       "    <tr style=\"text-align: right;\">\n",
       "      <th></th>\n",
       "      <th>Age</th>\n",
       "      <th>Gender</th>\n",
       "      <th>Tb_Bilirubin</th>\n",
       "      <th>DB_Bilirubin</th>\n",
       "      <th>Alkaline_Phosphotase</th>\n",
       "      <th>Sgpt</th>\n",
       "      <th>Sgot</th>\n",
       "      <th>Protiens</th>\n",
       "      <th>Albumin</th>\n",
       "      <th>Albumin_Globulin</th>\n",
       "      <th>Disease</th>\n",
       "    </tr>\n",
       "  </thead>\n",
       "  <tbody>\n",
       "    <tr>\n",
       "      <th>0</th>\n",
       "      <td>65</td>\n",
       "      <td>1</td>\n",
       "      <td>0.7</td>\n",
       "      <td>0.1</td>\n",
       "      <td>187</td>\n",
       "      <td>16</td>\n",
       "      <td>18</td>\n",
       "      <td>6.8</td>\n",
       "      <td>3.3</td>\n",
       "      <td>0.90</td>\n",
       "      <td>1</td>\n",
       "    </tr>\n",
       "    <tr>\n",
       "      <th>1</th>\n",
       "      <td>62</td>\n",
       "      <td>0</td>\n",
       "      <td>10.9</td>\n",
       "      <td>5.5</td>\n",
       "      <td>699</td>\n",
       "      <td>64</td>\n",
       "      <td>100</td>\n",
       "      <td>7.5</td>\n",
       "      <td>3.2</td>\n",
       "      <td>0.74</td>\n",
       "      <td>1</td>\n",
       "    </tr>\n",
       "    <tr>\n",
       "      <th>2</th>\n",
       "      <td>62</td>\n",
       "      <td>0</td>\n",
       "      <td>7.3</td>\n",
       "      <td>4.1</td>\n",
       "      <td>490</td>\n",
       "      <td>60</td>\n",
       "      <td>68</td>\n",
       "      <td>7.0</td>\n",
       "      <td>3.3</td>\n",
       "      <td>0.89</td>\n",
       "      <td>1</td>\n",
       "    </tr>\n",
       "    <tr>\n",
       "      <th>3</th>\n",
       "      <td>58</td>\n",
       "      <td>0</td>\n",
       "      <td>1.0</td>\n",
       "      <td>0.4</td>\n",
       "      <td>182</td>\n",
       "      <td>14</td>\n",
       "      <td>20</td>\n",
       "      <td>6.8</td>\n",
       "      <td>3.4</td>\n",
       "      <td>1.00</td>\n",
       "      <td>1</td>\n",
       "    </tr>\n",
       "    <tr>\n",
       "      <th>4</th>\n",
       "      <td>72</td>\n",
       "      <td>0</td>\n",
       "      <td>3.9</td>\n",
       "      <td>2.0</td>\n",
       "      <td>195</td>\n",
       "      <td>27</td>\n",
       "      <td>59</td>\n",
       "      <td>7.3</td>\n",
       "      <td>2.4</td>\n",
       "      <td>0.40</td>\n",
       "      <td>1</td>\n",
       "    </tr>\n",
       "    <tr>\n",
       "      <th>...</th>\n",
       "      <td>...</td>\n",
       "      <td>...</td>\n",
       "      <td>...</td>\n",
       "      <td>...</td>\n",
       "      <td>...</td>\n",
       "      <td>...</td>\n",
       "      <td>...</td>\n",
       "      <td>...</td>\n",
       "      <td>...</td>\n",
       "      <td>...</td>\n",
       "      <td>...</td>\n",
       "    </tr>\n",
       "    <tr>\n",
       "      <th>578</th>\n",
       "      <td>60</td>\n",
       "      <td>0</td>\n",
       "      <td>0.5</td>\n",
       "      <td>0.1</td>\n",
       "      <td>500</td>\n",
       "      <td>20</td>\n",
       "      <td>34</td>\n",
       "      <td>5.9</td>\n",
       "      <td>1.6</td>\n",
       "      <td>0.37</td>\n",
       "      <td>2</td>\n",
       "    </tr>\n",
       "    <tr>\n",
       "      <th>579</th>\n",
       "      <td>40</td>\n",
       "      <td>0</td>\n",
       "      <td>0.6</td>\n",
       "      <td>0.1</td>\n",
       "      <td>98</td>\n",
       "      <td>35</td>\n",
       "      <td>31</td>\n",
       "      <td>6.0</td>\n",
       "      <td>3.2</td>\n",
       "      <td>1.10</td>\n",
       "      <td>1</td>\n",
       "    </tr>\n",
       "    <tr>\n",
       "      <th>580</th>\n",
       "      <td>52</td>\n",
       "      <td>0</td>\n",
       "      <td>0.8</td>\n",
       "      <td>0.2</td>\n",
       "      <td>245</td>\n",
       "      <td>48</td>\n",
       "      <td>49</td>\n",
       "      <td>6.4</td>\n",
       "      <td>3.2</td>\n",
       "      <td>1.00</td>\n",
       "      <td>1</td>\n",
       "    </tr>\n",
       "    <tr>\n",
       "      <th>581</th>\n",
       "      <td>31</td>\n",
       "      <td>0</td>\n",
       "      <td>1.3</td>\n",
       "      <td>0.5</td>\n",
       "      <td>184</td>\n",
       "      <td>29</td>\n",
       "      <td>32</td>\n",
       "      <td>6.8</td>\n",
       "      <td>3.4</td>\n",
       "      <td>1.00</td>\n",
       "      <td>1</td>\n",
       "    </tr>\n",
       "    <tr>\n",
       "      <th>582</th>\n",
       "      <td>38</td>\n",
       "      <td>0</td>\n",
       "      <td>1.0</td>\n",
       "      <td>0.3</td>\n",
       "      <td>216</td>\n",
       "      <td>21</td>\n",
       "      <td>24</td>\n",
       "      <td>7.3</td>\n",
       "      <td>4.4</td>\n",
       "      <td>1.50</td>\n",
       "      <td>2</td>\n",
       "    </tr>\n",
       "  </tbody>\n",
       "</table>\n",
       "<p>583 rows × 11 columns</p>\n",
       "</div>"
      ],
      "text/plain": [
       "     Age  Gender  Tb_Bilirubin  DB_Bilirubin  Alkaline_Phosphotase  Sgpt   \\\n",
       "0     65       1           0.7           0.1                   187     16   \n",
       "1     62       0          10.9           5.5                   699     64   \n",
       "2     62       0           7.3           4.1                   490     60   \n",
       "3     58       0           1.0           0.4                   182     14   \n",
       "4     72       0           3.9           2.0                   195     27   \n",
       "..   ...     ...           ...           ...                   ...    ...   \n",
       "578   60       0           0.5           0.1                   500     20   \n",
       "579   40       0           0.6           0.1                    98     35   \n",
       "580   52       0           0.8           0.2                   245     48   \n",
       "581   31       0           1.3           0.5                   184     29   \n",
       "582   38       0           1.0           0.3                   216     21   \n",
       "\n",
       "     Sgot  Protiens  Albumin  Albumin_Globulin  Disease  \n",
       "0      18       6.8      3.3              0.90        1  \n",
       "1     100       7.5      3.2              0.74        1  \n",
       "2      68       7.0      3.3              0.89        1  \n",
       "3      20       6.8      3.4              1.00        1  \n",
       "4      59       7.3      2.4              0.40        1  \n",
       "..    ...       ...      ...               ...      ...  \n",
       "578    34       5.9      1.6              0.37        2  \n",
       "579    31       6.0      3.2              1.10        1  \n",
       "580    49       6.4      3.2              1.00        1  \n",
       "581    32       6.8      3.4              1.00        1  \n",
       "582    24       7.3      4.4              1.50        2  \n",
       "\n",
       "[583 rows x 11 columns]"
      ]
     },
     "execution_count": 423,
     "metadata": {},
     "output_type": "execute_result"
    }
   ],
   "source": [
    "csv\n"
   ]
  },
  {
   "cell_type": "code",
   "execution_count": 424,
   "metadata": {},
   "outputs": [
    {
     "data": {
      "text/plain": [
       "array([[<matplotlib.axes._subplots.AxesSubplot object at 0x7fc6f07b22e0>,\n",
       "        <matplotlib.axes._subplots.AxesSubplot object at 0x7fc6f2addf40>,\n",
       "        <matplotlib.axes._subplots.AxesSubplot object at 0x7fc6f29ab910>],\n",
       "       [<matplotlib.axes._subplots.AxesSubplot object at 0x7fc6f0b55fa0>,\n",
       "        <matplotlib.axes._subplots.AxesSubplot object at 0x7fc6f0be9340>,\n",
       "        <matplotlib.axes._subplots.AxesSubplot object at 0x7fc6f0c29130>],\n",
       "       [<matplotlib.axes._subplots.AxesSubplot object at 0x7fc6f1a9ad90>,\n",
       "        <matplotlib.axes._subplots.AxesSubplot object at 0x7fc6f19f9130>,\n",
       "        <matplotlib.axes._subplots.AxesSubplot object at 0x7fc6f04fac10>],\n",
       "       [<matplotlib.axes._subplots.AxesSubplot object at 0x7fc6f0529670>,\n",
       "        <matplotlib.axes._subplots.AxesSubplot object at 0x7fc6f04d6130>,\n",
       "        <matplotlib.axes._subplots.AxesSubplot object at 0x7fc6f04d6400>]],\n",
       "      dtype=object)"
      ]
     },
     "execution_count": 424,
     "metadata": {},
     "output_type": "execute_result"
    },
    {
     "data": {
      "image/png": "[encoded data removed]",
      "text/plain": [
       "<Figure size 1008x576 with 12 Axes>"
      ]
     },
     "metadata": {
      "needs_background": "light"
     },
     "output_type": "display_data"
    },
    {
     "data": {
      "image/png": "[encoded data removed]",
      "text/plain": [
       "<Figure size 1008x720 with 12 Axes>"
      ]
     },
     "metadata": {
      "needs_background": "light"
     },
     "output_type": "display_data"
    }
   ],
   "source": [
    "#Create Input && output data \n",
    "X_data = csv.drop('Disease',axis=1)\n",
    "Y_data = csv['Disease']\n",
    "\n",
    "# Visualize skewed continuous features of original data\n",
    "\n",
    "X_data.hist(figsize=(14,8))\n",
    "\n",
    "\n",
    "# Skewed features are Albumin, Direct Bilirubin, A/G ratio, Tota Bilirubin, Total Protein \n",
    "#Log-transform the skewed features\n",
    "skewed = ['Albumin', 'DB_Bilirubin', 'Tb_Bilirubin', 'Albumin_Globulin', 'Protiens']\n",
    "X_data[skewed] = X_data[skewed].apply(lambda x: np.log(x + 1))\n",
    "X_data[skewed] = X_data[skewed]\n",
    "# Visualize the new log distributions\n",
    "X_data.hist(figsize=(14,10))"
   ]
  },
  {
   "cell_type": "code",
   "execution_count": 425,
   "metadata": {},
   "outputs": [
    {
     "name": "stdout",
     "output_type": "stream",
     "text": [
      "10 total features after one-hot encoding.\n",
      "['Age', 'Gender', 'Tb_Bilirubin', 'DB_Bilirubin', 'Alkaline_Phosphotase', 'Sgpt ', 'Sgot', 'Protiens', 'Albumin', 'Albumin_Globulin']\n",
      "2 disease columns after one-hot encoding.\n",
      "0      1\n",
      "1      1\n",
      "2      1\n",
      "3      1\n",
      "4      1\n",
      "      ..\n",
      "578    0\n",
      "579    1\n",
      "580    1\n",
      "581    1\n",
      "582    0\n",
      "Name: 1, Length: 583, dtype: uint8\n"
     ]
    }
   ],
   "source": [
    "# : One-hot encode the data using pandas.get_dummies()\n",
    "features = pd.get_dummies(X_data)\n",
    "\n",
    "encoded = list(features.columns)\n",
    "print (\"{} total features after one-hot encoding.\".format(len(encoded)))\n",
    "print (encoded)\n",
    "\n",
    "disease=pd.get_dummies(Y_data)\n",
    "encoded = list(disease.columns)\n",
    "print (\"{} disease columns after one-hot encoding.\".format(len(encoded)))\n",
    "print (disease[1])\n"
   ]
  },
  {
   "cell_type": "code",
   "execution_count": 426,
   "metadata": {},
   "outputs": [
    {
     "name": "stdout",
     "output_type": "stream",
     "text": [
      "(466, 10) (117, 10) (466,) (117,)\n"
     ]
    }
   ],
   "source": [
    "from sklearn.preprocessing import StandardScaler\n",
    "from sklearn.preprocessing import MinMaxScaler\n",
    "from tensorflow import keras\n",
    "\n",
    "\n",
    "def preprocessing(X_train,Y_train,X_test,Y_test,type=\"MinMax\"):\n",
    "\n",
    "            #NORMALIZATION#\n",
    "    if type == \"Normalization\":\n",
    "        X_train_normalized = tf.keras.utils.normalize(X_train)\n",
    "        X_test_normalized = tf.keras.utils.normalize(X_test)\n",
    "        return X_train_normalized,Y_train,X_test_normalized,Y_test\n",
    "\n",
    "            #NORM-WITH MINMAX#\n",
    "    elif type == \"MinMax\":\n",
    "        scaler = MinMaxScaler(feature_range=(-1, 1))\n",
    "        X_train_minmax = scaler.fit_transform(X_train)\n",
    "        X_test_minmax = scaler.fit_transform(X_test)\n",
    "        return X_train_minmax , Y_train ,X_test_minmax ,Y_test\n",
    "\n",
    "X_train_minmax,Y_train,X_test_minmax,Y_test=preprocessing(X_train,Y_train,X_test,Y_test,type=\"MinMax\")\n",
    "print(X_train_minmax.shape,X_test_minmax.shape,Y_train.shape,Y_test.shape)\n"
   ]
  },
  {
   "cell_type": "code",
   "execution_count": 427,
   "metadata": {},
   "outputs": [],
   "source": [
    "#Function to perform 5 Folds Cross-Validation\n",
    "from sklearn.model_selection import cross_validate\n",
    "from sklearn.model_selection import KFold\n",
    "from sklearn.model_selection import cross_val_predict\n",
    "from sklearn.metrics import accuracy_score\n",
    "kf = KFold(n_splits=5)\n",
    "\n",
    "\n",
    "def cross_validation(model, _X, _y, _cv=kf):\n",
    "     #_X array input values\n",
    "     #_Y out labels\n",
    "     #cv Determines the number of folds for cross-validation.\n",
    "     \n",
    "      _scoring = ['accuracy', 'precision', 'recall', 'f1']\n",
    "\n",
    "      #Model Training and validation\n",
    "      results = cross_validate(estimator=model, X=_X,y=_y,cv=kf,scoring=_scoring,return_train_score=True,verbose=1)\n",
    "      #Elegxoume tin apododsi pou petuxenei me ta test dedomena pou eginan split apo to kfold\n",
    "      y_pred = cross_val_predict(model, X_train_minmax,  Y_train, cv=5)\n",
    "      #pairnoume to accuracy \n",
    "      accuracy = accuracy_score(Y_train, y_pred)\n",
    "      #Geometric mean score\n",
    "      geom_mean_score=geometric_mean_score(Y_train, y_pred)\n",
    "\n",
    "      print(classification_report(Y_train,y_pred))\n",
    "      #info\n",
    "      return {\"Training Accuracy scores\": results['train_accuracy'],\n",
    "              \"Mean Training Accuracy\": results['train_accuracy'].mean()*100,\n",
    "              \"Training Precision scores\": results['train_precision'],\n",
    "              \"Mean Training Precision\": results['train_precision'].mean(),\n",
    "              \"Training Recall scores\": results['train_recall'],\n",
    "              \"Mean Training Recall\": results['train_recall'].mean(),\n",
    "              \"Training F1 scores\": results['train_f1'],\n",
    "              \"Mean Training F1 Score\": results['train_f1'].mean(),\n",
    "              \"Validation Accuracy scores\": results['test_accuracy'],\n",
    "              \"Mean Validation Accuracy\": results['test_accuracy'].mean()*100,\n",
    "              \"Validation Precision scores\": results['test_precision'],\n",
    "              \"Mean Validation Precision\": results['test_precision'].mean(),\n",
    "              \"Validation Recall scores\": results['test_recall'],\n",
    "              \"Mean Validation Recall\": results['test_recall'].mean(),\n",
    "              \"Validation F1 scores\": results['test_f1'],\n",
    "              \"Mean Validation F1 Score\": results['test_f1'].mean(),\n",
    "              \"geometric_mean_score\":geom_mean_score,\n",
    "              \"Test_accuracy_score\":accuracy,\n",
    "              \"Y_pred\":y_pred\n",
    "      }\n"
   ]
  },
  {
   "cell_type": "code",
   "execution_count": 428,
   "metadata": {},
   "outputs": [],
   "source": [
    "from sklearn.metrics import accuracy_score\n",
    "#'Function to plot a grouped bar chart showing the training and validation results of the ML model in each fold after applying K-fold cross-validation.\n",
    "def plot_result(x_label, y_label, plot_title, X_train, Y_train,geometric_data):\n",
    "   #x_label name algorithm\n",
    "   #y_label: str, Name of metric being visualized e.g 'Accuracy'\n",
    "\n",
    "        \n",
    "        # Set size of plot\n",
    "        plt.figure(figsize=(12,6))\n",
    "        labels = [\"1st Fold\", \"2nd Fold\", \"3rd Fold\", \"4th Fold\", \"5th Fold\"]\n",
    "        X_axis = np.arange(len(labels))\n",
    "        ax = plt.gca()\n",
    "        plt.ylim(0.40000, 1)\n",
    "        plt.bar(X_axis+0.0, X_train, 0.2, color='blue', label='Training')\n",
    "        plt.bar(X_axis+0.2, Y_train, 0.2, color='red', label='Validation')\n",
    "        plt.bar(X_axis+0.4, geometric_data, 0.2, color='black', label='Geometric')\n",
    "        plt.title(plot_title, fontsize=30)\n",
    "        plt.xticks(X_axis, labels)\n",
    "        plt.xlabel(x_label, fontsize=14)\n",
    "        plt.ylabel(y_label, fontsize=14)\n",
    "        plt.legend()\n",
    "        plt.grid(True)\n",
    "        plt.show()\n"
   ]
  },
  {
   "cell_type": "code",
   "execution_count": 429,
   "metadata": {},
   "outputs": [
    {
     "name": "stdout",
     "output_type": "stream",
     "text": [
      "              precision    recall  f1-score   support\n",
      "\n",
      "           1       0.95      0.48      0.64       341\n",
      "           2       0.40      0.94      0.56       125\n",
      "\n",
      "    accuracy                           0.60       466\n",
      "   macro avg       0.68      0.71      0.60       466\n",
      "weighted avg       0.80      0.60      0.62       466\n",
      "\n",
      "TRAINING ACCURACY :59.44233042174753\n",
      " VALIDATION ACCURACY :60.30427819720887\n",
      " PREDICTION ACCURACY WITH TEST DATA:0.6030042918454935\n",
      " GEOMETRIC_MEAN_SCORE:0.6709384157814047\n"
     ]
    },
    {
     "name": "stderr",
     "output_type": "stream",
     "text": [
      "[Parallel(n_jobs=1)]: Using backend SequentialBackend with 1 concurrent workers.\n",
      "[Parallel(n_jobs=1)]: Done   5 out of   5 | elapsed:    0.0s finished\n"
     ]
    }
   ],
   "source": [
    "from sklearn.model_selection import KFold\n",
    "from sklearn.naive_bayes import GaussianNB\n",
    "from sklearn.model_selection import cross_validate\n",
    "from imblearn.metrics import geometric_mean_score\n",
    "#MODEL for Naive Bayes\n",
    "gnb = GaussianNB()\n",
    "kf = KFold(n_splits=5)\n",
    "\n",
    "#decision__result with callback functon\n",
    "results= cross_validation(gnb, X_train_minmax, Y_train, kf)\n",
    "\n",
    "#MEAN \n",
    "Training_acc=results[\"Mean Training Accuracy\"]\n",
    "Validation_Acc=results[\"Mean Validation Accuracy\"]\n",
    "\n",
    "#PREDICTION ACCURACY WITH X_TEST && Y_TEST\n",
    "pred_accuracy=results['Test_accuracy_score']\n",
    "pred_accuracy\n",
    "#Geometric Mean score\n",
    "Geom =results['geometric_mean_score']\n",
    "print(f'TRAINING ACCURACY :{Training_acc}'\"\\n\",f'VALIDATION ACCURACY :{Validation_Acc}'\"\\n\",f'PREDICTION ACCURACY WITH TEST DATA:{pred_accuracy}'\"\\n\",F'GEOMETRIC_MEAN_SCORE:{Geom}')\n"
   ]
  },
  {
   "cell_type": "code",
   "execution_count": 430,
   "metadata": {},
   "outputs": [
    {
     "data": {
      "image/png": "[encoded data removed]",
      "text/plain": [
       "<Figure size 864x432 with 1 Axes>"
      ]
     },
     "metadata": {
      "needs_background": "light"
     },
     "output_type": "display_data"
    }
   ],
   "source": [
    "#PLOT NAVE BAYES \n",
    "model_name = \"Naves Bayes\"\n",
    "\n",
    "plot_result(model_name,\"Accuracy\",\"Accuracy scores in 5 Folds\",results[\"Training Accuracy scores\"],results[\"Validation Accuracy scores\"],results['geometric_mean_score'])\n",
    "\n"
   ]
  },
  {
   "cell_type": "code",
   "execution_count": 431,
   "metadata": {},
   "outputs": [
    {
     "name": "stdout",
     "output_type": "stream",
     "text": [
      "Fitting 5 folds for each of 41 candidates, totalling 205 fits\n",
      "0.7317547471974377 {'C': 1.0, 'kernel': 'linear'}\n",
      "Testing Accuracy scores: 73.17547471974378\n"
     ]
    }
   ],
   "source": [
    "from sklearn.model_selection import GridSearchCV\n",
    "from sklearn import svm\n",
    "\n",
    "C=np.arange(1.0,205,5).tolist()\n",
    "\n",
    "#Hyperparameter C calculation\n",
    "kernels=['linear']\n",
    "param_grid = {'C': C,'kernel': kernels}\n",
    "\n",
    "#input normalization data \n",
    "'''X_train_minmax'''\n",
    "#target output\n",
    "'''Y_train'''\n",
    "svc = svm.SVC()\n",
    "#svc.cv_results_.keys()\n",
    "for kernel in kernels:\n",
    "  #svc = svm.SVC(kernel=kernel).fit(X, y)\n",
    "  #plotSVC(‘kernel=’ + str(kernel))\n",
    "  grid = GridSearchCV(SVC(kernel=svc),param_grid,refit=True,cv=5,verbose=1)\n",
    "  grid.fit(X_train_minmax,Y_train)\n",
    "print(grid.best_score_,grid.best_params_)\n",
    "#print(grid.cv_results_)\n",
    "#print(grid.cv_results_.keys())\n",
    "#print(\"Training Accuracy scores:\",grid.cv_results_['mean_train_score'].mean()*100)\n",
    "print(\"Testing Accuracy scores:\",grid.cv_results_['mean_test_score'].mean()*100)\n",
    "\n"
   ]
  },
  {
   "cell_type": "markdown",
   "metadata": {},
   "source": []
  },
  {
   "cell_type": "code",
   "execution_count": 432,
   "metadata": {},
   "outputs": [
    {
     "name": "stdout",
     "output_type": "stream",
     "text": [
      "Fitting 5 folds for each of 20 candidates, totalling 100 fits\n",
      "0.7339052848318464 {'C': 1.0, 'gamma': 7.5, 'kernel': 'rbf'}\n",
      "Testing Accuracy scores: 72.51967513154885\n"
     ]
    }
   ],
   "source": [
    "#Gamma me step 0.5 sto diastima 10\n",
    "gamma=np.arange(0.5, 10.5, 0.5).tolist()\n",
    "kernels=['rbf']\n",
    "param_grid = {'C':[1.0] ,'gamma':gamma,'kernel': kernels}\n",
    "\n",
    "for kernel in kernels:\n",
    "  #svc = svm.SVC(kernel=kernel).fit(X, y)\n",
    "  #plotSVC(‘kernel=’ + str(kernel))\n",
    "  grid = GridSearchCV(SVC(kernel=svc),param_grid,refit=True,cv=5,verbose=1)\n",
    "  grid.fit(X_train_minmax,Y_train)\n",
    "print(grid.best_score_,grid.best_params_)\n",
    "#print(grid.cv_results_)\n",
    "#print(grid.cv_results_.keys())\n",
    "#print(\"Training Accuracy scores:\",grid.cv_results_['mean_train_score'].mean()*100)\n",
    "print(\"Testing Accuracy scores:\",grid.cv_results_['mean_test_score'].mean()*100)\n"
   ]
  },
  {
   "cell_type": "code",
   "execution_count": 433,
   "metadata": {},
   "outputs": [
    {
     "name": "stdout",
     "output_type": "stream",
     "text": [
      "              precision    recall  f1-score   support\n",
      "\n",
      "           1       0.75      0.95      0.84       341\n",
      "           2       0.51      0.14      0.22       125\n",
      "\n",
      "    accuracy                           0.73       466\n",
      "   macro avg       0.63      0.55      0.53       466\n",
      "weighted avg       0.69      0.73      0.67       466\n",
      "\n",
      "TRAINING ACCURACY :83.74455879385397\n",
      " VALIDATION ACCURACY :73.39052848318462\n",
      " PREDICTION ACCURACY WITH TEST DATA:0.7339055793991416\n",
      " GEOMETRIC_MEAN_SCORE:0.3698933824354005\n"
     ]
    },
    {
     "name": "stderr",
     "output_type": "stream",
     "text": [
      "[Parallel(n_jobs=1)]: Using backend SequentialBackend with 1 concurrent workers.\n",
      "[Parallel(n_jobs=1)]: Done   5 out of   5 | elapsed:    0.1s finished\n"
     ]
    }
   ],
   "source": [
    "#SVM MODEL WITH BEST PARAMETERS\n",
    "\n",
    "\n",
    "#MODEL for SVM\n",
    "svc = svm.SVC(kernel='rbf',C=1,gamma=7.5)\n",
    "kf = KFold(n_splits=5)\n",
    "\n",
    "#decision__result with callback functon\n",
    "results= cross_validation(svc, X_train_minmax, Y_train, kf)\n",
    "\n",
    "#MEAN \n",
    "Training_acc=results[\"Mean Training Accuracy\"]\n",
    "Validation_Acc=results[\"Mean Validation Accuracy\"]\n",
    "\n",
    "#PREDICTION ACCURACY WITH X_TEST && Y_TEST\n",
    "pred_accuracy=results['Test_accuracy_score']\n",
    "pred_accuracy\n",
    "#Geometric Mean score\n",
    "Geom =results['geometric_mean_score']\n",
    "geom_list=[Geom]*5\n",
    "\n",
    "print(f'TRAINING ACCURACY :{Training_acc}'\"\\n\",f'VALIDATION ACCURACY :{Validation_Acc}'\"\\n\",f'PREDICTION ACCURACY WITH TEST DATA:{pred_accuracy}'\"\\n\",F'GEOMETRIC_MEAN_SCORE:{Geom}')\n"
   ]
  },
  {
   "cell_type": "code",
   "execution_count": 434,
   "metadata": {},
   "outputs": [
    {
     "data": {
      "image/png": "[encoded data removed]",
      "text/plain": [
       "<Figure size 864x432 with 1 Axes>"
      ]
     },
     "metadata": {
      "needs_background": "light"
     },
     "output_type": "display_data"
    }
   ],
   "source": [
    "#PLOT SVM\n",
    "model_name = \"Support Vector Machine\"\n",
    "\n",
    "plot_result(model_name,\"Accuracy\",\"Accuracy scores in 5 Folds\",results[\"Training Accuracy scores\"],results[\"Validation Accuracy scores\"],results['geometric_mean_score'])\n",
    "\n"
   ]
  },
  {
   "cell_type": "code",
   "execution_count": 498,
   "metadata": {},
   "outputs": [
    {
     "data": {
      "image/png": "[encoded data removed]",
      "text/plain": [
       "<Figure size 576x396 with 1 Axes>"
      ]
     },
     "metadata": {},
     "output_type": "display_data"
    },
    {
     "data": {
      "text/html": [
       "<style>#sk-container-id-21 {color: black;background-color: white;}#sk-container-id-21 pre{padding: 0;}#sk-container-id-21 div.sk-toggleable {background-color: white;}#sk-container-id-21 label.sk-toggleable__label {cursor: pointer;display: block;width: 100%;margin-bottom: 0;padding: 0.3em;box-sizing: border-box;text-align: center;}#sk-container-id-21 label.sk-toggleable__label-arrow:before {content: \"▸\";float: left;margin-right: 0.25em;color: #696969;}#sk-container-id-21 label.sk-toggleable__label-arrow:hover:before {color: black;}#sk-container-id-21 div.sk-estimator:hover label.sk-toggleable__label-arrow:before {color: black;}#sk-container-id-21 div.sk-toggleable__content {max-height: 0;max-width: 0;overflow: hidden;text-align: left;background-color: #f0f8ff;}#sk-container-id-21 div.sk-toggleable__content pre {margin: 0.2em;color: black;border-radius: 0.25em;background-color: #f0f8ff;}#sk-container-id-21 input.sk-toggleable__control:checked~div.sk-toggleable__content {max-height: 200px;max-width: 100%;overflow: auto;}#sk-container-id-21 input.sk-toggleable__control:checked~label.sk-toggleable__label-arrow:before {content: \"▾\";}#sk-container-id-21 div.sk-estimator input.sk-toggleable__control:checked~label.sk-toggleable__label {background-color: #d4ebff;}#sk-container-id-21 div.sk-label input.sk-toggleable__control:checked~label.sk-toggleable__label {background-color: #d4ebff;}#sk-container-id-21 input.sk-hidden--visually {border: 0;clip: rect(1px 1px 1px 1px);clip: rect(1px, 1px, 1px, 1px);height: 1px;margin: -1px;overflow: hidden;padding: 0;position: absolute;width: 1px;}#sk-container-id-21 div.sk-estimator {font-family: monospace;background-color: #f0f8ff;border: 1px dotted black;border-radius: 0.25em;box-sizing: border-box;margin-bottom: 0.5em;}#sk-container-id-21 div.sk-estimator:hover {background-color: #d4ebff;}#sk-container-id-21 div.sk-parallel-item::after {content: \"\";width: 100%;border-bottom: 1px solid gray;flex-grow: 1;}#sk-container-id-21 div.sk-label:hover label.sk-toggleable__label {background-color: #d4ebff;}#sk-container-id-21 div.sk-serial::before {content: \"\";position: absolute;border-left: 1px solid gray;box-sizing: border-box;top: 0;bottom: 0;left: 50%;z-index: 0;}#sk-container-id-21 div.sk-serial {display: flex;flex-direction: column;align-items: center;background-color: white;padding-right: 0.2em;padding-left: 0.2em;position: relative;}#sk-container-id-21 div.sk-item {position: relative;z-index: 1;}#sk-container-id-21 div.sk-parallel {display: flex;align-items: stretch;justify-content: center;background-color: white;position: relative;}#sk-container-id-21 div.sk-item::before, #sk-container-id-21 div.sk-parallel-item::before {content: \"\";position: absolute;border-left: 1px solid gray;box-sizing: border-box;top: 0;bottom: 0;left: 50%;z-index: -1;}#sk-container-id-21 div.sk-parallel-item {display: flex;flex-direction: column;z-index: 1;position: relative;background-color: white;}#sk-container-id-21 div.sk-parallel-item:first-child::after {align-self: flex-end;width: 50%;}#sk-container-id-21 div.sk-parallel-item:last-child::after {align-self: flex-start;width: 50%;}#sk-container-id-21 div.sk-parallel-item:only-child::after {width: 0;}#sk-container-id-21 div.sk-dashed-wrapped {border: 1px dashed gray;margin: 0 0.4em 0.5em 0.4em;box-sizing: border-box;padding-bottom: 0.4em;background-color: white;}#sk-container-id-21 div.sk-label label {font-family: monospace;font-weight: bold;display: inline-block;line-height: 1.2em;}#sk-container-id-21 div.sk-label-container {text-align: center;}#sk-container-id-21 div.sk-container {/* jupyter's `normalize.less` sets `[hidden] { display: none; }` but bootstrap.min.css set `[hidden] { display: none !important; }` so we also need the `!important` here to be able to override the default hidden behavior on the sphinx rendered scikit-learn.org. See: https://github.com/scikit-learn/scikit-learn/issues/21755 */display: inline-block !important;position: relative;}#sk-container-id-21 div.sk-text-repr-fallback {display: none;}</style><div id=\"sk-container-id-21\" class=\"sk-top-container\"><div class=\"sk-text-repr-fallback\"><pre>KElbowVisualizer(ax=&lt;matplotlib.axes._subplots.AxesSubplot object at 0x7fc6e4ed9a30&gt;,\n",
       "                 estimator=KMeans(n_clusters=15, random_state=1), k=(2, 16),\n",
       "                 timings=False)</pre><b>In a Jupyter environment, please rerun this cell to show the HTML representation or trust the notebook. <br />On GitHub, the HTML representation is unable to render, please try loading this page with nbviewer.org.</b></div><div class=\"sk-container\" hidden><div class=\"sk-item sk-dashed-wrapped\"><div class=\"sk-label-container\"><div class=\"sk-label sk-toggleable\"><input class=\"sk-toggleable__control sk-hidden--visually\" id=\"sk-estimator-id-50\" type=\"checkbox\" ><label for=\"sk-estimator-id-50\" class=\"sk-toggleable__label sk-toggleable__label-arrow\">KElbowVisualizer</label><div class=\"sk-toggleable__content\"><pre>KElbowVisualizer(ax=&lt;matplotlib.axes._subplots.AxesSubplot object at 0x7fc6e4ed9a30&gt;,\n",
       "                 estimator=KMeans(n_clusters=15, random_state=1), k=(2, 16),\n",
       "                 timings=False)</pre></div></div></div><div class=\"sk-parallel\"><div class=\"sk-parallel-item\"><div class=\"sk-item\"><div class=\"sk-label-container\"><div class=\"sk-label sk-toggleable\"><input class=\"sk-toggleable__control sk-hidden--visually\" id=\"sk-estimator-id-51\" type=\"checkbox\" ><label for=\"sk-estimator-id-51\" class=\"sk-toggleable__label sk-toggleable__label-arrow\">estimator: KMeans</label><div class=\"sk-toggleable__content\"><pre>KMeans(n_clusters=15, random_state=1)</pre></div></div></div><div class=\"sk-serial\"><div class=\"sk-item\"><div class=\"sk-estimator sk-toggleable\"><input class=\"sk-toggleable__control sk-hidden--visually\" id=\"sk-estimator-id-52\" type=\"checkbox\" ><label for=\"sk-estimator-id-52\" class=\"sk-toggleable__label sk-toggleable__label-arrow\">KMeans</label><div class=\"sk-toggleable__content\"><pre>KMeans(n_clusters=15, random_state=1)</pre></div></div></div></div></div></div></div></div></div></div>"
      ],
      "text/plain": [
       "KElbowVisualizer(ax=<matplotlib.axes._subplots.AxesSubplot object at 0x7fc6e4ed9a30>,\n",
       "                 estimator=KMeans(n_clusters=15, random_state=1), k=(2, 16),\n",
       "                 timings=False)"
      ]
     },
     "execution_count": 498,
     "metadata": {},
     "output_type": "execute_result"
    }
   ],
   "source": [
    "#Kmeans\n",
    "from sklearn.cluster import KMeans\n",
    "from yellowbrick.cluster.elbow import kelbow_visualizer\n",
    "\n",
    "#find best K parameter\n",
    "kelbow_visualizer(KMeans(random_state=1),X_data,k=(2, 16),timings=False)"
   ]
  },
  {
   "cell_type": "code",
   "execution_count": 499,
   "metadata": {},
   "outputs": [
    {
     "name": "stdout",
     "output_type": "stream",
     "text": [
      "Number of clusters from 3 to 15: \n",
      " [3, 4, 5, 6, 7, 8, 9, 10, 11, 12, 13, 14, 15]\n",
      "For n_clusters = 3, silhouette score is 0.7304543945942013)\n",
      "For n_clusters = 4, silhouette score is 0.743268597111481)\n",
      "For n_clusters = 5, silhouette score is 0.6564525519047064)\n",
      "For n_clusters = 6, silhouette score is 0.6786697449200669)\n",
      "For n_clusters = 7, silhouette score is 0.6780671236669034)\n",
      "For n_clusters = 8, silhouette score is 0.4772093642523543)\n",
      "For n_clusters = 9, silhouette score is 0.5794888568407687)\n",
      "For n_clusters = 10, silhouette score is 0.5805177195301315)\n",
      "For n_clusters = 11, silhouette score is 0.4578820066261157)\n",
      "For n_clusters = 12, silhouette score is 0.4577790227094932)\n",
      "For n_clusters = 13, silhouette score is 0.47089076018507925)\n",
      "For n_clusters = 14, silhouette score is 0.46838057196959115)\n",
      "For n_clusters = 15, silhouette score is 0.4329455979041578)\n"
     ]
    }
   ],
   "source": [
    "from sklearn.metrics import silhouette_score\n",
    "\n",
    "range_n_clusters = list (range(3,16))\n",
    "print (\"Number of clusters from 3 to 15: \\n\", range_n_clusters)\n",
    "\n",
    "for n_clusters in range_n_clusters:\n",
    "    clusterer = KMeans(n_clusters=n_clusters)\n",
    "    preds = clusterer.fit_predict(X_data)\n",
    "    centers = clusterer.cluster_centers_\n",
    "    score = silhouette_score (X_data, preds)\n",
    "    print (\"For n_clusters = {}, silhouette score is {})\".format(n_clusters, score))\n"
   ]
  },
  {
   "cell_type": "code",
   "execution_count": null,
   "metadata": {},
   "outputs": [],
   "source": [
    "\n"
   ]
  },
  {
   "cell_type": "code",
   "execution_count": null,
   "metadata": {},
   "outputs": [],
   "source": [
    "\n"
   ]
  },
  {
   "cell_type": "code",
   "execution_count": null,
   "metadata": {},
   "outputs": [],
   "source": []
  },
  {
   "cell_type": "code",
   "execution_count": null,
   "metadata": {},
   "outputs": [],
   "source": []
  },
  {
   "cell_type": "code",
   "execution_count": null,
   "metadata": {},
   "outputs": [],
   "source": []
  },
  {
   "cell_type": "code",
   "execution_count": null,
   "metadata": {},
   "outputs": [],
   "source": []
  }
 ],
 "metadata": {
  "interpreter": {
   "hash": "916dbcbb3f70747c44a77c7bcd40155683ae19c65e1c03b4aa3499c5328201f1"
  },
  "kernelspec": {
   "display_name": "Python 3.8.10 64-bit",
   "language": "python",
   "name": "python3"
  },
  "language_info": {
   "codemirror_mode": {
    "name": "ipython",
    "version": 3
   },
   "file_extension": ".py",
   "mimetype": "text/x-python",
   "name": "python",
   "nbconvert_exporter": "python",
   "pygments_lexer": "ipython3",
   "version": "3.8.10"
  },
  "orig_nbformat": 4
 },
 "nbformat": 4,
 "nbformat_minor": 2
}

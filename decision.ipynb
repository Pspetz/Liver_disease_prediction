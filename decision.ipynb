{
 "cells": [
  {
   "cell_type": "code",
   "execution_count": 1,
   "metadata": {},
   "outputs": [],
   "source": [
    "import pandas as pd \n",
    "import numpy as np\n",
    "from matplotlib import pyplot as plt"
   ]
  },
  {
   "cell_type": "code",
   "execution_count": 2,
   "metadata": {},
   "outputs": [],
   "source": [
    "csv = pd.read_csv(\"Indian Liver Patient Dataset (ILPD).csv\",header=None)"
   ]
  },
  {
   "cell_type": "code",
   "execution_count": 3,
   "metadata": {},
   "outputs": [
    {
     "name": "stdout",
     "output_type": "stream",
     "text": [
      "<class 'pandas.core.frame.DataFrame'>\n",
      "RangeIndex: 583 entries, 0 to 582\n",
      "Data columns (total 11 columns):\n",
      " #   Column                Non-Null Count  Dtype  \n",
      "---  ------                --------------  -----  \n",
      " 0   Age                   583 non-null    int64  \n",
      " 1   Gender                583 non-null    object \n",
      " 2   Tb_Bilirubin          583 non-null    float64\n",
      " 3   DB_Bilirubin          583 non-null    float64\n",
      " 4   Alkaline_Phosphotase  583 non-null    int64  \n",
      " 5   Sgpt                  583 non-null    int64  \n",
      " 6   Sgot                  583 non-null    int64  \n",
      " 7   Protiens              583 non-null    float64\n",
      " 8   Albumin               583 non-null    float64\n",
      " 9   Albumin_Globulin      579 non-null    float64\n",
      " 10  Disease               583 non-null    int64  \n",
      "dtypes: float64(5), int64(5), object(1)\n",
      "memory usage: 50.2+ KB\n"
     ]
    },
    {
     "data": {
      "text/plain": [
       "Age                     0\n",
       "Gender                  0\n",
       "Tb_Bilirubin            0\n",
       "DB_Bilirubin            0\n",
       "Alkaline_Phosphotase    0\n",
       "Sgpt                    0\n",
       "Sgot                    0\n",
       "Protiens                0\n",
       "Albumin                 0\n",
       "Albumin_Globulin        4\n",
       "Disease                 0\n",
       "dtype: int64"
      ]
     },
     "execution_count": 3,
     "metadata": {},
     "output_type": "execute_result"
    }
   ],
   "source": [
    "csv.columns=[\"Age\",'Gender','Tb_Bilirubin','DB_Bilirubin','Alkaline_Phosphotase','Sgpt ','Sgot','Protiens','Albumin','Albumin_Globulin','Disease']\n",
    "\n",
    "#Missing Values\n",
    "csv.info()\n",
    "csv.isna().sum()"
   ]
  },
  {
   "cell_type": "code",
   "execution_count": 4,
   "metadata": {},
   "outputs": [
    {
     "name": "stdout",
     "output_type": "stream",
     "text": [
      "<class 'pandas.core.frame.DataFrame'>\n",
      "RangeIndex: 583 entries, 0 to 582\n",
      "Data columns (total 11 columns):\n",
      " #   Column                Non-Null Count  Dtype  \n",
      "---  ------                --------------  -----  \n",
      " 0   Age                   583 non-null    int64  \n",
      " 1   Gender                583 non-null    object \n",
      " 2   Tb_Bilirubin          583 non-null    float64\n",
      " 3   DB_Bilirubin          583 non-null    float64\n",
      " 4   Alkaline_Phosphotase  583 non-null    int64  \n",
      " 5   Sgpt                  583 non-null    int64  \n",
      " 6   Sgot                  583 non-null    int64  \n",
      " 7   Protiens              583 non-null    float64\n",
      " 8   Albumin               583 non-null    float64\n",
      " 9   Albumin_Globulin      583 non-null    float64\n",
      " 10  Disease               583 non-null    int64  \n",
      "dtypes: float64(5), int64(5), object(1)\n",
      "memory usage: 50.2+ KB\n"
     ]
    },
    {
     "data": {
      "text/plain": [
       "Age                     0\n",
       "Gender                  0\n",
       "Tb_Bilirubin            0\n",
       "DB_Bilirubin            0\n",
       "Alkaline_Phosphotase    0\n",
       "Sgpt                    0\n",
       "Sgot                    0\n",
       "Protiens                0\n",
       "Albumin                 0\n",
       "Albumin_Globulin        0\n",
       "Disease                 0\n",
       "dtype: int64"
      ]
     },
     "execution_count": 4,
     "metadata": {},
     "output_type": "execute_result"
    }
   ],
   "source": [
    "csv['Albumin_Globulin'] = csv['Albumin_Globulin'].fillna(csv['Albumin_Globulin'].mean())\n",
    "csv.info()\n",
    "csv.isna().sum()"
   ]
  },
  {
   "cell_type": "code",
   "execution_count": 5,
   "metadata": {},
   "outputs": [],
   "source": [
    "#replace Gender female with 1 and Male with 0\n",
    "for i in csv['Gender']:\n",
    "    if i=='Female':\n",
    "        csv = csv.replace('Female',1)\n",
    "    else:\n",
    "        csv =csv.replace('Male',0)\n",
    "        "
   ]
  },
  {
   "cell_type": "code",
   "execution_count": 6,
   "metadata": {},
   "outputs": [
    {
     "data": {
      "text/html": [
       "<div>\n",
       "<style scoped>\n",
       "    .dataframe tbody tr th:only-of-type {\n",
       "        vertical-align: middle;\n",
       "    }\n",
       "\n",
       "    .dataframe tbody tr th {\n",
       "        vertical-align: top;\n",
       "    }\n",
       "\n",
       "    .dataframe thead th {\n",
       "        text-align: right;\n",
       "    }\n",
       "</style>\n",
       "<table border=\"1\" class=\"dataframe\">\n",
       "  <thead>\n",
       "    <tr style=\"text-align: right;\">\n",
       "      <th></th>\n",
       "      <th>Age</th>\n",
       "      <th>Gender</th>\n",
       "      <th>Tb_Bilirubin</th>\n",
       "      <th>DB_Bilirubin</th>\n",
       "      <th>Alkaline_Phosphotase</th>\n",
       "      <th>Sgpt</th>\n",
       "      <th>Sgot</th>\n",
       "      <th>Protiens</th>\n",
       "      <th>Albumin</th>\n",
       "      <th>Albumin_Globulin</th>\n",
       "      <th>Disease</th>\n",
       "    </tr>\n",
       "  </thead>\n",
       "  <tbody>\n",
       "    <tr>\n",
       "      <th>0</th>\n",
       "      <td>65</td>\n",
       "      <td>1</td>\n",
       "      <td>0.7</td>\n",
       "      <td>0.1</td>\n",
       "      <td>187</td>\n",
       "      <td>16</td>\n",
       "      <td>18</td>\n",
       "      <td>6.8</td>\n",
       "      <td>3.3</td>\n",
       "      <td>0.90</td>\n",
       "      <td>1</td>\n",
       "    </tr>\n",
       "    <tr>\n",
       "      <th>1</th>\n",
       "      <td>62</td>\n",
       "      <td>0</td>\n",
       "      <td>10.9</td>\n",
       "      <td>5.5</td>\n",
       "      <td>699</td>\n",
       "      <td>64</td>\n",
       "      <td>100</td>\n",
       "      <td>7.5</td>\n",
       "      <td>3.2</td>\n",
       "      <td>0.74</td>\n",
       "      <td>1</td>\n",
       "    </tr>\n",
       "    <tr>\n",
       "      <th>2</th>\n",
       "      <td>62</td>\n",
       "      <td>0</td>\n",
       "      <td>7.3</td>\n",
       "      <td>4.1</td>\n",
       "      <td>490</td>\n",
       "      <td>60</td>\n",
       "      <td>68</td>\n",
       "      <td>7.0</td>\n",
       "      <td>3.3</td>\n",
       "      <td>0.89</td>\n",
       "      <td>1</td>\n",
       "    </tr>\n",
       "    <tr>\n",
       "      <th>3</th>\n",
       "      <td>58</td>\n",
       "      <td>0</td>\n",
       "      <td>1.0</td>\n",
       "      <td>0.4</td>\n",
       "      <td>182</td>\n",
       "      <td>14</td>\n",
       "      <td>20</td>\n",
       "      <td>6.8</td>\n",
       "      <td>3.4</td>\n",
       "      <td>1.00</td>\n",
       "      <td>1</td>\n",
       "    </tr>\n",
       "    <tr>\n",
       "      <th>4</th>\n",
       "      <td>72</td>\n",
       "      <td>0</td>\n",
       "      <td>3.9</td>\n",
       "      <td>2.0</td>\n",
       "      <td>195</td>\n",
       "      <td>27</td>\n",
       "      <td>59</td>\n",
       "      <td>7.3</td>\n",
       "      <td>2.4</td>\n",
       "      <td>0.40</td>\n",
       "      <td>1</td>\n",
       "    </tr>\n",
       "    <tr>\n",
       "      <th>...</th>\n",
       "      <td>...</td>\n",
       "      <td>...</td>\n",
       "      <td>...</td>\n",
       "      <td>...</td>\n",
       "      <td>...</td>\n",
       "      <td>...</td>\n",
       "      <td>...</td>\n",
       "      <td>...</td>\n",
       "      <td>...</td>\n",
       "      <td>...</td>\n",
       "      <td>...</td>\n",
       "    </tr>\n",
       "    <tr>\n",
       "      <th>578</th>\n",
       "      <td>60</td>\n",
       "      <td>0</td>\n",
       "      <td>0.5</td>\n",
       "      <td>0.1</td>\n",
       "      <td>500</td>\n",
       "      <td>20</td>\n",
       "      <td>34</td>\n",
       "      <td>5.9</td>\n",
       "      <td>1.6</td>\n",
       "      <td>0.37</td>\n",
       "      <td>2</td>\n",
       "    </tr>\n",
       "    <tr>\n",
       "      <th>579</th>\n",
       "      <td>40</td>\n",
       "      <td>0</td>\n",
       "      <td>0.6</td>\n",
       "      <td>0.1</td>\n",
       "      <td>98</td>\n",
       "      <td>35</td>\n",
       "      <td>31</td>\n",
       "      <td>6.0</td>\n",
       "      <td>3.2</td>\n",
       "      <td>1.10</td>\n",
       "      <td>1</td>\n",
       "    </tr>\n",
       "    <tr>\n",
       "      <th>580</th>\n",
       "      <td>52</td>\n",
       "      <td>0</td>\n",
       "      <td>0.8</td>\n",
       "      <td>0.2</td>\n",
       "      <td>245</td>\n",
       "      <td>48</td>\n",
       "      <td>49</td>\n",
       "      <td>6.4</td>\n",
       "      <td>3.2</td>\n",
       "      <td>1.00</td>\n",
       "      <td>1</td>\n",
       "    </tr>\n",
       "    <tr>\n",
       "      <th>581</th>\n",
       "      <td>31</td>\n",
       "      <td>0</td>\n",
       "      <td>1.3</td>\n",
       "      <td>0.5</td>\n",
       "      <td>184</td>\n",
       "      <td>29</td>\n",
       "      <td>32</td>\n",
       "      <td>6.8</td>\n",
       "      <td>3.4</td>\n",
       "      <td>1.00</td>\n",
       "      <td>1</td>\n",
       "    </tr>\n",
       "    <tr>\n",
       "      <th>582</th>\n",
       "      <td>38</td>\n",
       "      <td>0</td>\n",
       "      <td>1.0</td>\n",
       "      <td>0.3</td>\n",
       "      <td>216</td>\n",
       "      <td>21</td>\n",
       "      <td>24</td>\n",
       "      <td>7.3</td>\n",
       "      <td>4.4</td>\n",
       "      <td>1.50</td>\n",
       "      <td>2</td>\n",
       "    </tr>\n",
       "  </tbody>\n",
       "</table>\n",
       "<p>583 rows × 11 columns</p>\n",
       "</div>"
      ],
      "text/plain": [
       "     Age  Gender  Tb_Bilirubin  DB_Bilirubin  Alkaline_Phosphotase  Sgpt   \\\n",
       "0     65       1           0.7           0.1                   187     16   \n",
       "1     62       0          10.9           5.5                   699     64   \n",
       "2     62       0           7.3           4.1                   490     60   \n",
       "3     58       0           1.0           0.4                   182     14   \n",
       "4     72       0           3.9           2.0                   195     27   \n",
       "..   ...     ...           ...           ...                   ...    ...   \n",
       "578   60       0           0.5           0.1                   500     20   \n",
       "579   40       0           0.6           0.1                    98     35   \n",
       "580   52       0           0.8           0.2                   245     48   \n",
       "581   31       0           1.3           0.5                   184     29   \n",
       "582   38       0           1.0           0.3                   216     21   \n",
       "\n",
       "     Sgot  Protiens  Albumin  Albumin_Globulin  Disease  \n",
       "0      18       6.8      3.3              0.90        1  \n",
       "1     100       7.5      3.2              0.74        1  \n",
       "2      68       7.0      3.3              0.89        1  \n",
       "3      20       6.8      3.4              1.00        1  \n",
       "4      59       7.3      2.4              0.40        1  \n",
       "..    ...       ...      ...               ...      ...  \n",
       "578    34       5.9      1.6              0.37        2  \n",
       "579    31       6.0      3.2              1.10        1  \n",
       "580    49       6.4      3.2              1.00        1  \n",
       "581    32       6.8      3.4              1.00        1  \n",
       "582    24       7.3      4.4              1.50        2  \n",
       "\n",
       "[583 rows x 11 columns]"
      ]
     },
     "execution_count": 6,
     "metadata": {},
     "output_type": "execute_result"
    }
   ],
   "source": [
    "csv\n"
   ]
  },
  {
   "cell_type": "code",
   "execution_count": 7,
   "metadata": {},
   "outputs": [
    {
     "data": {
      "text/plain": [
       "array([[<matplotlib.axes._subplots.AxesSubplot object at 0x7f6f11e8b0a0>,\n",
       "        <matplotlib.axes._subplots.AxesSubplot object at 0x7f6f11dbcc10>,\n",
       "        <matplotlib.axes._subplots.AxesSubplot object at 0x7f6f11d73310>],\n",
       "       [<matplotlib.axes._subplots.AxesSubplot object at 0x7f6f11d1cb50>,\n",
       "        <matplotlib.axes._subplots.AxesSubplot object at 0x7f6f11cd33d0>,\n",
       "        <matplotlib.axes._subplots.AxesSubplot object at 0x7f6f11cfac70>],\n",
       "       [<matplotlib.axes._subplots.AxesSubplot object at 0x7f6f11c87b80>,\n",
       "        <matplotlib.axes._subplots.AxesSubplot object at 0x7f6f11cc1460>,\n",
       "        <matplotlib.axes._subplots.AxesSubplot object at 0x7f6f11c115e0>],\n",
       "       [<matplotlib.axes._subplots.AxesSubplot object at 0x7f6f11c3ce20>,\n",
       "        <matplotlib.axes._subplots.AxesSubplot object at 0x7f6f11bfe490>,\n",
       "        <matplotlib.axes._subplots.AxesSubplot object at 0x7f6f11bfe730>]],\n",
       "      dtype=object)"
      ]
     },
     "execution_count": 7,
     "metadata": {},
     "output_type": "execute_result"
    },
    {
     "data": {
      "image/png": "[encoded data removed]",
      "text/plain": [
       "<Figure size 1008x576 with 12 Axes>"
      ]
     },
     "metadata": {
      "needs_background": "light"
     },
     "output_type": "display_data"
    },
    {
     "data": {
      "image/png": "[encoded data removed]",
      "text/plain": [
       "<Figure size 1008x720 with 12 Axes>"
      ]
     },
     "metadata": {
      "needs_background": "light"
     },
     "output_type": "display_data"
    }
   ],
   "source": [
    "#Create Input && output data \n",
    "X_data = csv.drop('Disease',axis=1)\n",
    "Y_data = csv['Disease']\n",
    "\n",
    "# Visualize skewed continuous features of original data\n",
    "\n",
    "X_data.hist(figsize=(14,8))\n",
    "\n",
    "\n",
    "# Skewed features are Albumin, Direct Bilirubin, A/G ratio, Tota Bilirubin, Total Protein \n",
    "#Log-transform the skewed features\n",
    "skewed = ['Albumin', 'DB_Bilirubin', 'Tb_Bilirubin', 'Albumin_Globulin', 'Protiens']\n",
    "X_data[skewed] = X_data[skewed].apply(lambda x: np.log(x + 1))\n",
    "X_data[skewed] = X_data[skewed]\n",
    "# Visualize the new log distributions\n",
    "X_data.hist(figsize=(14,10))"
   ]
  },
  {
   "cell_type": "code",
   "execution_count": 8,
   "metadata": {},
   "outputs": [
    {
     "name": "stdout",
     "output_type": "stream",
     "text": [
      "10 total features after one-hot encoding.\n",
      "['Age', 'Gender', 'Tb_Bilirubin', 'DB_Bilirubin', 'Alkaline_Phosphotase', 'Sgpt ', 'Sgot', 'Protiens', 'Albumin', 'Albumin_Globulin']\n",
      "2 disease columns after one-hot encoding.\n",
      "0      1\n",
      "1      1\n",
      "2      1\n",
      "3      1\n",
      "4      1\n",
      "      ..\n",
      "578    0\n",
      "579    1\n",
      "580    1\n",
      "581    1\n",
      "582    0\n",
      "Name: 1, Length: 583, dtype: uint8\n"
     ]
    }
   ],
   "source": [
    "# : One-hot encode the data using pandas.get_dummies()\n",
    "features = pd.get_dummies(X_data)\n",
    "\n",
    "encoded = list(features.columns)\n",
    "print (\"{} total features after one-hot encoding.\".format(len(encoded)))\n",
    "print (encoded)\n",
    "\n",
    "disease=pd.get_dummies(Y_data)\n",
    "encoded = list(disease.columns)\n",
    "print (\"{} disease columns after one-hot encoding.\".format(len(encoded)))\n",
    "print (disease[1])\n"
   ]
  },
  {
   "cell_type": "code",
   "execution_count": 9,
   "metadata": {},
   "outputs": [
    {
     "name": "stderr",
     "output_type": "stream",
     "text": [
      "2022-11-19 02:24:22.529661: W tensorflow/stream_executor/platform/default/dso_loader.cc:64] Could not load dynamic library 'libcudart.so.11.0'; dlerror: libcudart.so.11.0: cannot open shared object file: No such file or directory\n",
      "2022-11-19 02:24:22.529688: I tensorflow/stream_executor/cuda/cudart_stub.cc:29] Ignore above cudart dlerror if you do not have a GPU set up on your machine.\n"
     ]
    },
    {
     "name": "stdout",
     "output_type": "stream",
     "text": [
      "(583, 10)\n"
     ]
    }
   ],
   "source": [
    "from sklearn.preprocessing import StandardScaler\n",
    "from sklearn.preprocessing import MinMaxScaler\n",
    "from tensorflow import keras\n",
    "\n",
    "\n",
    "def preprocessing(X_data,type=\"MinMax\"):\n",
    "\n",
    "            #NORMALIZATION#\n",
    "    if type == \"Normalization\":\n",
    "        X_data_normalized = tf.keras.utils.normalize(X_data)\n",
    "        return X_data_normalized\n",
    "\n",
    "            #NORM-WITH MINMAX#\n",
    "    elif type == \"MinMax\":\n",
    "        scaler = MinMaxScaler(feature_range=(-1, 1))\n",
    "        X_data_minmax  = scaler.fit_transform(X_data)\n",
    "        return X_data_minmax \n",
    "\n",
    "X_data_minmax=preprocessing(X_data,type=\"MinMax\")\n",
    "print(X_data_minmax.shape)\n"
   ]
  },
  {
   "cell_type": "code",
   "execution_count": 24,
   "metadata": {},
   "outputs": [],
   "source": [
    "#Function to perform 5 Folds Cross-Validation\n",
    "from sklearn.model_selection import cross_validate\n",
    "from sklearn.model_selection import KFold\n",
    "from sklearn.model_selection import cross_val_predict\n",
    "kf = KFold(n_splits=5)\n",
    "\n",
    "\n",
    "def cross_validation(model, _X, _y, _cv=kf):\n",
    "     #_X array input values\n",
    "     #_Y out labels\n",
    "     #cv Determines the number of folds for cross-validation.\n",
    "     \n",
    "      _scoring = ['accuracy', 'precision', 'recall', 'f1']\n",
    "      results = cross_validate(estimator=model,\n",
    "                               X=_X,\n",
    "                               y=_y,\n",
    "                               cv=kf,\n",
    "                               scoring=_scoring,\n",
    "                               return_train_score=True,verbose=2)\n",
    "\n",
    "      y_pred = cross_val_predict(gnb, X_data_minmax, Y_data, cv=5)\n",
    "      geometrin_mean_score=geometric_mean_score(Y_data, y_pred)\n",
    "\n",
    "      return {\"Training Accuracy scores\": results['train_accuracy'],\n",
    "              \"Mean Training Accuracy\": results['train_accuracy'].mean()*100,\n",
    "              \"Training Precision scores\": results['train_precision'],\n",
    "              \"Mean Training Precision\": results['train_precision'].mean(),\n",
    "              \"Training Recall scores\": results['train_recall'],\n",
    "              \"Mean Training Recall\": results['train_recall'].mean(),\n",
    "              \"Training F1 scores\": results['train_f1'],\n",
    "              \"Mean Training F1 Score\": results['train_f1'].mean(),\n",
    "              \"Validation Accuracy scores\": results['test_accuracy'],\n",
    "              \"Mean Validation Accuracy\": results['test_accuracy'].mean()*100,\n",
    "              \"Validation Precision scores\": results['test_precision'],\n",
    "              \"Mean Validation Precision\": results['test_precision'].mean(),\n",
    "              \"Validation Recall scores\": results['test_recall'],\n",
    "              \"Mean Validation Recall\": results['test_recall'].mean(),\n",
    "              \"Validation F1 scores\": results['test_f1'],\n",
    "              \"Mean Validation F1 Score\": results['test_f1'].mean(),\n",
    "              \"geometric_mean_score\":geometrin_mean_score\n",
    "      }\n"
   ]
  },
  {
   "cell_type": "code",
   "execution_count": 25,
   "metadata": {},
   "outputs": [],
   "source": [
    "#'Function to plot a grouped bar chart showing the training and validation results of the ML model in each fold after applying K-fold cross-validation.\n",
    "def plot_result(x_label, y_label, plot_title, train_data, val_data,geometric_data):\n",
    "   #x_label name algorithm\n",
    "   #y_label: str, Name of metric being visualized e.g 'Accuracy'\n",
    "\n",
    "        \n",
    "        # Set size of plot\n",
    "        plt.figure(figsize=(12,6))\n",
    "        labels = [\"1st Fold\", \"2nd Fold\", \"3rd Fold\", \"4th Fold\", \"5th Fold\"]\n",
    "        X_axis = np.arange(len(labels))\n",
    "        ax = plt.gca()\n",
    "        plt.ylim(0.40000, 1)\n",
    "        plt.bar(X_axis+0.0, train_data, 0.2, color='blue', label='Training')\n",
    "        plt.bar(X_axis+0.2, val_data, 0.2, color='red', label='Validation')\n",
    "        plt.bar(X_axis+0.4, geometric_data, 0.2, color='black', label='Geometric')\n",
    "        plt.title(plot_title, fontsize=30)\n",
    "        plt.xticks(X_axis, labels)\n",
    "        plt.xlabel(x_label, fontsize=14)\n",
    "        plt.ylabel(y_label, fontsize=14)\n",
    "        plt.legend()\n",
    "        plt.grid(True)\n",
    "        plt.show()"
   ]
  },
  {
   "cell_type": "code",
   "execution_count": 26,
   "metadata": {},
   "outputs": [
    {
     "name": "stdout",
     "output_type": "stream",
     "text": [
      "[CV] END .................................................... total time=   0.0s\n",
      "[CV] END .................................................... total time=   0.0s\n",
      "[CV] END .................................................... total time=   0.0s\n",
      "[CV] END .................................................... total time=   0.0s\n",
      "[CV] END .................................................... total time=   0.0s\n",
      "[CV] END .................................................... total time=   0.0s\n",
      "[CV] END .................................................... total time=   0.0s\n",
      "[CV] END .................................................... total time=   0.0s\n",
      "[CV] END .................................................... total time=   0.0s\n",
      "[CV] END .................................................... total time=   0.0s\n",
      "59.306871547913346 60.389036251105225\n"
     ]
    },
    {
     "name": "stderr",
     "output_type": "stream",
     "text": [
      "[Parallel(n_jobs=1)]: Using backend SequentialBackend with 1 concurrent workers.\n",
      "[Parallel(n_jobs=1)]: Done   1 out of   1 | elapsed:    0.0s remaining:    0.0s\n",
      "[Parallel(n_jobs=1)]: Done   5 out of   5 | elapsed:    0.0s finished\n",
      "[Parallel(n_jobs=1)]: Using backend SequentialBackend with 1 concurrent workers.\n",
      "[Parallel(n_jobs=1)]: Done   1 out of   1 | elapsed:    0.0s remaining:    0.0s\n",
      "[Parallel(n_jobs=1)]: Done   5 out of   5 | elapsed:    0.0s finished\n"
     ]
    }
   ],
   "source": [
    "from sklearn.model_selection import KFold\n",
    "from sklearn.naive_bayes import GaussianNB\n",
    "from sklearn.model_selection import cross_validate\n",
    "from imblearn.metrics import geometric_mean_score\n",
    "\n",
    "gnb = GaussianNB()\n",
    "    \n",
    "#MODEL for Naive Bayes\n",
    "\n",
    "gnb = GaussianNB()\n",
    "kf = KFold(n_splits=5)\n",
    "decision__result = cross_validation(gnb, X_data_minmax, Y_data, kf)\n",
    "decision__result\n",
    "#MEAN \n",
    "x =  cross_validation(gnb, X_data_minmax, Y_data, kf)\n",
    "Training_acc=x[\"Mean Training Accuracy\"]\n",
    "Validation_Acc=x[\"Mean Validation Accuracy\"]\n",
    "print(Training_acc,Validation_Acc)\n"
   ]
  },
  {
   "cell_type": "code",
   "execution_count": 27,
   "metadata": {},
   "outputs": [
    {
     "data": {
      "image/png": "[encoded data removed]",
      "text/plain": [
       "<Figure size 864x432 with 1 Axes>"
      ]
     },
     "metadata": {
      "needs_background": "light"
     },
     "output_type": "display_data"
    },
    {
     "name": "stdout",
     "output_type": "stream",
     "text": [
      "[CV] END .................................................... total time=   0.0s\n",
      "[CV] END .................................................... total time=   0.0s\n",
      "[CV] END .................................................... total time=   0.0s\n",
      "[CV] END .................................................... total time=   0.0s\n",
      "[CV] END .................................................... total time=   0.0s\n",
      "TRAINING ACCURACY :59.306871547913346 VALIDATION ACCURACY :60.389036251105225\n"
     ]
    },
    {
     "name": "stderr",
     "output_type": "stream",
     "text": [
      "[Parallel(n_jobs=1)]: Using backend SequentialBackend with 1 concurrent workers.\n",
      "[Parallel(n_jobs=1)]: Done   1 out of   1 | elapsed:    0.0s remaining:    0.0s\n",
      "[Parallel(n_jobs=1)]: Done   5 out of   5 | elapsed:    0.0s finished\n"
     ]
    }
   ],
   "source": [
    "model_name = \"Naves Bayes\"\n",
    "\n",
    "plot_result(model_name,\"Accuracy\",\"Accuracy scores in 5 Folds\",decision__result[\"Training Accuracy scores\"],decision__result[\"Validation Accuracy scores\"],decision__result['geometric_mean_score'])\n",
    "\n",
    "x = cross_validation(gnb, X_data_minmax, Y_data, kf)\n",
    "Training_acc=x[\"Mean Training Accuracy\"]\n",
    "Validation_Acc=x[\"Mean Validation Accuracy\"]\n",
    "print(f'TRAINING ACCURACY :{Training_acc}',f'VALIDATION ACCURACY :{Validation_Acc}')"
   ]
  },
  {
   "cell_type": "code",
   "execution_count": 28,
   "metadata": {},
   "outputs": [
    {
     "data": {
      "text/plain": [
       "array([2, 1, 1, 2, 1, 2, 2, 2, 2, 2, 2, 1, 2, 2, 2, 2, 1, 2, 1, 1, 1, 1,\n",
       "       1, 1, 2, 1, 1, 1, 2, 2, 1, 2, 2, 1, 1, 2, 2, 1, 2, 1, 2, 2, 1, 1,\n",
       "       2, 1, 1, 1, 2, 1, 2, 2, 1, 2, 1, 1, 2, 2, 2, 2, 2, 2, 2, 2, 2, 2,\n",
       "       2, 2, 2, 2, 1, 2, 2, 2, 2, 2, 1, 1, 2, 1, 1, 2, 2, 1, 2, 2, 2, 2,\n",
       "       2, 1, 1, 1, 1, 1, 1, 2, 1, 1, 1, 1, 2, 2, 2, 2, 2, 1, 1, 2, 2, 2,\n",
       "       2, 1, 2, 2, 1, 1, 1, 1, 1, 1, 1, 1, 2, 2, 2, 2, 1, 1, 1, 1, 1, 2,\n",
       "       2, 2, 2, 1, 1, 1, 1, 2, 2, 1, 1, 1, 1, 2, 1, 2, 2, 2, 2, 2, 2, 2,\n",
       "       1, 1, 2, 2, 2, 2, 1, 1, 1, 2, 2, 1, 1, 1, 1, 1, 2, 1, 1, 2, 2, 2,\n",
       "       1, 1, 1, 1, 1, 1, 2, 2, 2, 2, 1, 1, 1, 2, 1, 1, 2, 2, 2, 1, 1, 2,\n",
       "       2, 1, 2, 2, 2, 2, 2, 2, 1, 1, 2, 2, 2, 1, 1, 2, 2, 1, 2, 2, 2, 2,\n",
       "       2, 2, 2, 2, 2, 2, 2, 2, 2, 2, 2, 1, 1, 1, 2, 1, 2, 2, 2, 2, 2, 2,\n",
       "       2, 2, 2, 2, 1, 2, 2, 2, 2, 2, 2, 2, 2, 1, 1, 1, 2, 1, 1, 1, 2, 2,\n",
       "       2, 2, 2, 2, 1, 2, 2, 1, 1, 2, 2, 2, 2, 2, 2, 2, 2, 2, 2, 2, 2, 2,\n",
       "       2, 2, 2, 1, 2, 2, 2, 2, 2, 2, 2, 2, 2, 2, 2, 2, 2, 2, 2, 2, 1, 2,\n",
       "       2, 1, 2, 1, 2, 2, 2, 2, 2, 2, 1, 2, 2, 2, 2, 2, 2, 2, 1, 2, 2, 2,\n",
       "       2, 2, 1, 2, 2, 2, 1, 1, 2, 2, 2, 1, 2, 1, 2, 2, 2, 1, 2, 2, 2, 2,\n",
       "       2, 1, 2, 2, 2, 2, 2, 2, 2, 2, 2, 2, 2, 2, 2, 2, 2, 2, 1, 2, 2, 2,\n",
       "       2, 2, 2, 2, 2, 2, 2, 2, 2, 2, 1, 2, 2, 2, 2, 2, 2, 2, 1, 1, 2, 2,\n",
       "       2, 2, 2, 1, 2, 1, 1, 2, 2, 2, 2, 1, 1, 1, 1, 2, 1, 2, 2, 1, 1, 2,\n",
       "       1, 1, 1, 2, 2, 2, 2, 2, 2, 2, 2, 1, 2, 2, 2, 2, 2, 2, 2, 2, 2, 2,\n",
       "       2, 2, 1, 2, 2, 2, 2, 1, 2, 2, 1, 2, 1, 2, 2, 2, 2, 2, 1, 1, 1, 2,\n",
       "       2, 2, 2, 2, 2, 2, 2, 2, 2, 2, 2, 2, 2, 1, 2, 2, 1, 1, 2, 1, 1, 2,\n",
       "       1, 1, 2, 1, 2, 2, 2, 2, 1, 2, 1, 2, 2, 2, 2, 1, 1, 2, 2, 1, 1, 1,\n",
       "       1, 1, 1, 1, 2, 2, 2, 2, 2, 1, 2, 2, 2, 1, 1, 1, 2, 2, 2, 2, 1, 1,\n",
       "       2, 1, 2, 1, 2, 1, 2, 1, 1, 2, 2, 2, 2, 2, 2, 2, 1, 2, 1, 1, 1, 1,\n",
       "       1, 2, 2, 1, 2, 1, 2, 1, 1, 1, 1, 1, 1, 2, 2, 1, 2, 1, 1, 1, 1, 2,\n",
       "       1, 1, 1, 1, 1, 1, 2, 2, 2, 2, 2])"
      ]
     },
     "execution_count": 28,
     "metadata": {},
     "output_type": "execute_result"
    }
   ],
   "source": [
    "from sklearn.model_selection import cross_val_predict\n",
    "y_pred = cross_val_predict(gnb, X_data_minmax, Y_data, cv=5)\n",
    "y_pred"
   ]
  },
  {
   "cell_type": "markdown",
   "metadata": {},
   "source": []
  },
  {
   "cell_type": "code",
   "execution_count": 29,
   "metadata": {},
   "outputs": [
    {
     "data": {
      "text/plain": [
       "0.655777217228971"
      ]
     },
     "execution_count": 29,
     "metadata": {},
     "output_type": "execute_result"
    }
   ],
   "source": [
    "import imblearn\n",
    "from imblearn.metrics import geometric_mean_score\n",
    "geometric_mean_scores=geometric_mean_score(Y_data, y_pred)\n",
    "geometric_mean_scores"
   ]
  },
  {
   "cell_type": "code",
   "execution_count": 30,
   "metadata": {},
   "outputs": [],
   "source": [
    "from sklearn.pipeline import make_pipeline\n",
    "from sklearn.svm import SVC\n",
    "\n",
    "clf = make_pipeline(StandardScaler(), SVC(gamma='auto'))    \n"
   ]
  },
  {
   "cell_type": "code",
   "execution_count": 31,
   "metadata": {},
   "outputs": [
    {
     "name": "stderr",
     "output_type": "stream",
     "text": [
      "[Parallel(n_jobs=1)]: Using backend SequentialBackend with 1 concurrent workers.\n",
      "[Parallel(n_jobs=1)]: Done   1 out of   1 | elapsed:    0.0s remaining:    0.0s\n",
      "[Parallel(n_jobs=1)]: Done   5 out of   5 | elapsed:    0.1s finished\n",
      "[Parallel(n_jobs=1)]: Using backend SequentialBackend with 1 concurrent workers.\n",
      "[Parallel(n_jobs=1)]: Done   1 out of   1 | elapsed:    0.0s remaining:    0.0s\n"
     ]
    },
    {
     "name": "stdout",
     "output_type": "stream",
     "text": [
      "[CV] END .................................................... total time=   0.0s\n",
      "[CV] END .................................................... total time=   0.0s\n",
      "[CV] END .................................................... total time=   0.0s\n",
      "[CV] END .................................................... total time=   0.0s\n",
      "[CV] END .................................................... total time=   0.0s\n",
      "[CV] END .................................................... total time=   0.0s\n",
      "[CV] END .................................................... total time=   0.0s\n",
      "[CV] END .................................................... total time=   0.0s\n",
      "[CV] END .................................................... total time=   0.0s\n",
      "[CV] END .................................................... total time=   0.0s\n"
     ]
    },
    {
     "name": "stderr",
     "output_type": "stream",
     "text": [
      "[Parallel(n_jobs=1)]: Done   5 out of   5 | elapsed:    0.1s finished\n"
     ]
    },
    {
     "data": {
      "image/png": "[encoded data removed]",
      "text/plain": [
       "<Figure size 864x432 with 1 Axes>"
      ]
     },
     "metadata": {
      "needs_background": "light"
     },
     "output_type": "display_data"
    },
    {
     "name": "stdout",
     "output_type": "stream",
     "text": [
      "[CV] END .................................................... total time=   0.0s\n",
      "[CV] END .................................................... total time=   0.0s\n",
      "[CV] END .................................................... total time=   0.0s\n",
      "[CV] END .................................................... total time=   0.0s\n",
      "[CV] END .................................................... total time=   0.0s\n",
      "TRAINING ACCURACY :72.42760382681898 VALIDATION ACCURACY :71.0079575596817\n"
     ]
    },
    {
     "name": "stderr",
     "output_type": "stream",
     "text": [
      "[Parallel(n_jobs=1)]: Using backend SequentialBackend with 1 concurrent workers.\n",
      "[Parallel(n_jobs=1)]: Done   1 out of   1 | elapsed:    0.0s remaining:    0.0s\n",
      "[Parallel(n_jobs=1)]: Done   5 out of   5 | elapsed:    0.1s finished\n"
     ]
    }
   ],
   "source": [
    "\n",
    "    \n",
    "#MODEL for SVM\n",
    "kf = KFold(n_splits=5)\n",
    "decision__result = cross_validation(clf, X_data_minmax, Y_data, kf)\n",
    "decision__result\n",
    "#MEAN \n",
    "x =  cross_validation(clf, X_data_minmax, Y_data, kf)\n",
    "Training_acc=x[\"Mean Training Accuracy\"]\n",
    "Validation_Acc=x[\"Mean Validation Accuracy\"]\n",
    "#print(Training_acc,Validation_Acc)\n",
    "\n",
    "y_pred = cross_val_predict(clf, X_data_minmax, Y_data, cv=5)\n",
    "geometrin_mean_score=geometric_mean_score(Y_data, y_pred)\n",
    "\n",
    "model_name = \"Support Vector Machine\"\n",
    "\n",
    "plot_result(model_name,\"Accuracy\",\"Accuracy scores in 5 Folds\",decision__result[\"Training Accuracy scores\"],decision__result[\"Validation Accuracy scores\"],geometrin_mean_score)\n",
    "\n",
    "x = cross_validation(clf, X_data_minmax, Y_data, kf)\n",
    "Training_acc=x[\"Mean Training Accuracy\"]\n",
    "Validation_Acc=x[\"Mean Validation Accuracy\"]\n",
    "print(f'TRAINING ACCURACY :{Training_acc}',f'VALIDATION ACCURACY :{Validation_Acc}')"
   ]
  },
  {
   "cell_type": "code",
   "execution_count": 18,
   "metadata": {},
   "outputs": [
    {
     "data": {
      "text/plain": [
       "0.13338418345565123"
      ]
     },
     "execution_count": 18,
     "metadata": {},
     "output_type": "execute_result"
    }
   ],
   "source": [
    "geometrin_mean_score"
   ]
  },
  {
   "cell_type": "code",
   "execution_count": 80,
   "metadata": {},
   "outputs": [],
   "source": [
    "from sklearn.model_selection import GridSearchCV\n",
    "from sklearn import svm\n",
    "param_grid = {'C': [1,50,100,150,200], 'gamma': [3],'kernel': ['rbf','linear']}\n",
    "\n",
    "#input normalization data \n",
    "'''X_data_minmax'''\n",
    "#target output\n",
    "'''Y_data'''\n",
    "svc = svm.SVC()\n",
    "#svc.cv_results_.keys()\n"
   ]
  },
  {
   "cell_type": "code",
   "execution_count": 81,
   "metadata": {},
   "outputs": [
    {
     "name": "stdout",
     "output_type": "stream",
     "text": [
      "Fitting 5 folds for each of 10 candidates, totalling 50 fits\n",
      "Fitting 5 folds for each of 10 candidates, totalling 50 fits\n",
      "0.7170203359858532 {'C': 1, 'gamma': 3, 'kernel': 'rbf'}\n",
      "Testing Accuracy scores: 68.81741821396994\n"
     ]
    }
   ],
   "source": [
    "for kernel in kernels:\n",
    "  #svc = svm.SVC(kernel=kernel).fit(X, y)\n",
    "  #plotSVC(‘kernel=’ + str(kernel))\n",
    "  grid = GridSearchCV(SVC(kernel=svc),param_grid,refit=True,cv=5,verbose=1)\n",
    "  grid.fit(X_data_minmax,Y_data)\n",
    "print(grid.best_score_,grid.best_params_)\n",
    "#print(grid.cv_results_)\n",
    "#print(grid.cv_results_.keys())\n",
    "#print(\"Training Accuracy scores:\",grid.cv_results_['mean_train_score'].mean()*100)\n",
    "print(\"Testing Accuracy scores:\",grid.cv_results_['mean_test_score'].mean()*100)\n",
    "\n",
    "\n"
   ]
  },
  {
   "cell_type": "code",
   "execution_count": 82,
   "metadata": {},
   "outputs": [
    {
     "name": "stdout",
     "output_type": "stream",
     "text": [
      "0.7170203359858532 {'C': 1, 'gamma': 3, 'kernel': 'rbf'}\n"
     ]
    }
   ],
   "source": [
    "print(grid.best_score_,grid.best_params_)\n",
    "#print(grid.best_estimator_)\n",
    "#SV(C=1 gamma=3)"
   ]
  },
  {
   "cell_type": "code",
   "execution_count": 83,
   "metadata": {},
   "outputs": [
    {
     "name": "stdout",
     "output_type": "stream",
     "text": [
      "[[404  12]\n",
      " [121  46]]\n",
      "              precision    recall  f1-score   support\n",
      "\n",
      "           1       0.77      0.97      0.86       416\n",
      "           2       0.79      0.28      0.41       167\n",
      "\n",
      "    accuracy                           0.77       583\n",
      "   macro avg       0.78      0.62      0.63       583\n",
      "weighted avg       0.78      0.77      0.73       583\n",
      "\n"
     ]
    }
   ],
   "source": [
    "from sklearn.metrics import classification_report, confusion_matrix  \n",
    "grid_predictions = grid.predict(X_data_minmax)\n",
    "print(confusion_matrix(Y_data,grid_predictions))\n",
    "print(classification_report(Y_data,grid_predictions))#Output"
   ]
  },
  {
   "cell_type": "code",
   "execution_count": 62,
   "metadata": {},
   "outputs": [],
   "source": []
  },
  {
   "cell_type": "code",
   "execution_count": null,
   "metadata": {},
   "outputs": [],
   "source": []
  }
 ],
 "metadata": {
  "interpreter": {
   "hash": "916dbcbb3f70747c44a77c7bcd40155683ae19c65e1c03b4aa3499c5328201f1"
  },
  "kernelspec": {
   "display_name": "Python 3.8.10 64-bit",
   "language": "python",
   "name": "python3"
  },
  "language_info": {
   "codemirror_mode": {
    "name": "ipython",
    "version": 3
   },
   "file_extension": ".py",
   "mimetype": "text/x-python",
   "name": "python",
   "nbconvert_exporter": "python",
   "pygments_lexer": "ipython3",
   "version": "3.8.10"
  },
  "orig_nbformat": 4
 },
 "nbformat": 4,
 "nbformat_minor": 2
}

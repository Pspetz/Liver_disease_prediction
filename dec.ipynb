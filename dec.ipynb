{
 "cells": [
  {
   "cell_type": "code",
   "execution_count": 1,
   "metadata": {},
   "outputs": [],
   "source": [
    "import pandas as pd \n",
    "import numpy as np"
   ]
  },
  {
   "cell_type": "code",
   "execution_count": 160,
   "metadata": {},
   "outputs": [],
   "source": [
    "csv = pd.read_csv(\"Indian Liver Patient Dataset (ILPD).csv\",header=None)"
   ]
  },
  {
   "cell_type": "code",
   "execution_count": 161,
   "metadata": {},
   "outputs": [
    {
     "name": "stdout",
     "output_type": "stream",
     "text": [
      "<class 'pandas.core.frame.DataFrame'>\n",
      "RangeIndex: 583 entries, 0 to 582\n",
      "Data columns (total 11 columns):\n",
      " #   Column                Non-Null Count  Dtype  \n",
      "---  ------                --------------  -----  \n",
      " 0   Age                   583 non-null    int64  \n",
      " 1   Gender                583 non-null    object \n",
      " 2   Tb_Bilirubin          583 non-null    float64\n",
      " 3   DB_Bilirubin          583 non-null    float64\n",
      " 4   Alkaline_Phosphotase  583 non-null    int64  \n",
      " 5   Sgpt                  583 non-null    int64  \n",
      " 6   Sgot                  583 non-null    int64  \n",
      " 7   Protiens              583 non-null    float64\n",
      " 8   Albumin               583 non-null    float64\n",
      " 9   Albumin_Globulin      579 non-null    float64\n",
      " 10  Split_Label           583 non-null    int64  \n",
      "dtypes: float64(5), int64(5), object(1)\n",
      "memory usage: 50.2+ KB\n"
     ]
    },
    {
     "data": {
      "text/plain": [
       "Age                     0\n",
       "Gender                  0\n",
       "Tb_Bilirubin            0\n",
       "DB_Bilirubin            0\n",
       "Alkaline_Phosphotase    0\n",
       "Sgpt                    0\n",
       "Sgot                    0\n",
       "Protiens                0\n",
       "Albumin                 0\n",
       "Albumin_Globulin        4\n",
       "Split_Label             0\n",
       "dtype: int64"
      ]
     },
     "execution_count": 161,
     "metadata": {},
     "output_type": "execute_result"
    }
   ],
   "source": [
    "csv.columns=[\"Age\",'Gender','Tb_Bilirubin','DB_Bilirubin','Alkaline_Phosphotase','Sgpt ','Sgot','Protiens','Albumin','Albumin_Globulin','Split_Label']\n",
    "\n",
    "#Missing Values\n",
    "csv.info()\n",
    "csv.isna().sum()"
   ]
  },
  {
   "cell_type": "code",
   "execution_count": 162,
   "metadata": {},
   "outputs": [
    {
     "name": "stdout",
     "output_type": "stream",
     "text": [
      "<class 'pandas.core.frame.DataFrame'>\n",
      "RangeIndex: 583 entries, 0 to 582\n",
      "Data columns (total 11 columns):\n",
      " #   Column                Non-Null Count  Dtype  \n",
      "---  ------                --------------  -----  \n",
      " 0   Age                   583 non-null    int64  \n",
      " 1   Gender                583 non-null    object \n",
      " 2   Tb_Bilirubin          583 non-null    float64\n",
      " 3   DB_Bilirubin          583 non-null    float64\n",
      " 4   Alkaline_Phosphotase  583 non-null    int64  \n",
      " 5   Sgpt                  583 non-null    int64  \n",
      " 6   Sgot                  583 non-null    int64  \n",
      " 7   Protiens              583 non-null    float64\n",
      " 8   Albumin               583 non-null    float64\n",
      " 9   Albumin_Globulin      583 non-null    float64\n",
      " 10  Split_Label           583 non-null    int64  \n",
      "dtypes: float64(5), int64(5), object(1)\n",
      "memory usage: 50.2+ KB\n"
     ]
    },
    {
     "data": {
      "text/plain": [
       "Age                     0\n",
       "Gender                  0\n",
       "Tb_Bilirubin            0\n",
       "DB_Bilirubin            0\n",
       "Alkaline_Phosphotase    0\n",
       "Sgpt                    0\n",
       "Sgot                    0\n",
       "Protiens                0\n",
       "Albumin                 0\n",
       "Albumin_Globulin        0\n",
       "Split_Label             0\n",
       "dtype: int64"
      ]
     },
     "execution_count": 162,
     "metadata": {},
     "output_type": "execute_result"
    }
   ],
   "source": [
    "csv['Albumin_Globulin'] = csv['Albumin_Globulin'].fillna(csv['Albumin_Globulin'].mean())\n",
    "csv.info()\n",
    "csv.isna().sum()"
   ]
  },
  {
   "cell_type": "code",
   "execution_count": 163,
   "metadata": {},
   "outputs": [],
   "source": [
    "#replace Gender female with 1 and Male with 0\n",
    "for i in csv['Gender']:\n",
    "    if i=='Female':\n",
    "        csv = csv.replace('Female',1)\n",
    "    else:\n",
    "        csv =csv.replace('Male',0)\n",
    "        "
   ]
  },
  {
   "cell_type": "code",
   "execution_count": 164,
   "metadata": {},
   "outputs": [
    {
     "data": {
      "text/html": [
       "<div>\n",
       "<style scoped>\n",
       "    .dataframe tbody tr th:only-of-type {\n",
       "        vertical-align: middle;\n",
       "    }\n",
       "\n",
       "    .dataframe tbody tr th {\n",
       "        vertical-align: top;\n",
       "    }\n",
       "\n",
       "    .dataframe thead th {\n",
       "        text-align: right;\n",
       "    }\n",
       "</style>\n",
       "<table border=\"1\" class=\"dataframe\">\n",
       "  <thead>\n",
       "    <tr style=\"text-align: right;\">\n",
       "      <th></th>\n",
       "      <th>Age</th>\n",
       "      <th>Gender</th>\n",
       "      <th>Tb_Bilirubin</th>\n",
       "      <th>DB_Bilirubin</th>\n",
       "      <th>Alkaline_Phosphotase</th>\n",
       "      <th>Sgpt</th>\n",
       "      <th>Sgot</th>\n",
       "      <th>Protiens</th>\n",
       "      <th>Albumin</th>\n",
       "      <th>Albumin_Globulin</th>\n",
       "      <th>Split_Label</th>\n",
       "    </tr>\n",
       "  </thead>\n",
       "  <tbody>\n",
       "    <tr>\n",
       "      <th>0</th>\n",
       "      <td>65</td>\n",
       "      <td>1</td>\n",
       "      <td>0.7</td>\n",
       "      <td>0.1</td>\n",
       "      <td>187</td>\n",
       "      <td>16</td>\n",
       "      <td>18</td>\n",
       "      <td>6.8</td>\n",
       "      <td>3.3</td>\n",
       "      <td>0.90</td>\n",
       "      <td>1</td>\n",
       "    </tr>\n",
       "    <tr>\n",
       "      <th>1</th>\n",
       "      <td>62</td>\n",
       "      <td>0</td>\n",
       "      <td>10.9</td>\n",
       "      <td>5.5</td>\n",
       "      <td>699</td>\n",
       "      <td>64</td>\n",
       "      <td>100</td>\n",
       "      <td>7.5</td>\n",
       "      <td>3.2</td>\n",
       "      <td>0.74</td>\n",
       "      <td>1</td>\n",
       "    </tr>\n",
       "    <tr>\n",
       "      <th>2</th>\n",
       "      <td>62</td>\n",
       "      <td>0</td>\n",
       "      <td>7.3</td>\n",
       "      <td>4.1</td>\n",
       "      <td>490</td>\n",
       "      <td>60</td>\n",
       "      <td>68</td>\n",
       "      <td>7.0</td>\n",
       "      <td>3.3</td>\n",
       "      <td>0.89</td>\n",
       "      <td>1</td>\n",
       "    </tr>\n",
       "    <tr>\n",
       "      <th>3</th>\n",
       "      <td>58</td>\n",
       "      <td>0</td>\n",
       "      <td>1.0</td>\n",
       "      <td>0.4</td>\n",
       "      <td>182</td>\n",
       "      <td>14</td>\n",
       "      <td>20</td>\n",
       "      <td>6.8</td>\n",
       "      <td>3.4</td>\n",
       "      <td>1.00</td>\n",
       "      <td>1</td>\n",
       "    </tr>\n",
       "    <tr>\n",
       "      <th>4</th>\n",
       "      <td>72</td>\n",
       "      <td>0</td>\n",
       "      <td>3.9</td>\n",
       "      <td>2.0</td>\n",
       "      <td>195</td>\n",
       "      <td>27</td>\n",
       "      <td>59</td>\n",
       "      <td>7.3</td>\n",
       "      <td>2.4</td>\n",
       "      <td>0.40</td>\n",
       "      <td>1</td>\n",
       "    </tr>\n",
       "    <tr>\n",
       "      <th>...</th>\n",
       "      <td>...</td>\n",
       "      <td>...</td>\n",
       "      <td>...</td>\n",
       "      <td>...</td>\n",
       "      <td>...</td>\n",
       "      <td>...</td>\n",
       "      <td>...</td>\n",
       "      <td>...</td>\n",
       "      <td>...</td>\n",
       "      <td>...</td>\n",
       "      <td>...</td>\n",
       "    </tr>\n",
       "    <tr>\n",
       "      <th>578</th>\n",
       "      <td>60</td>\n",
       "      <td>0</td>\n",
       "      <td>0.5</td>\n",
       "      <td>0.1</td>\n",
       "      <td>500</td>\n",
       "      <td>20</td>\n",
       "      <td>34</td>\n",
       "      <td>5.9</td>\n",
       "      <td>1.6</td>\n",
       "      <td>0.37</td>\n",
       "      <td>2</td>\n",
       "    </tr>\n",
       "    <tr>\n",
       "      <th>579</th>\n",
       "      <td>40</td>\n",
       "      <td>0</td>\n",
       "      <td>0.6</td>\n",
       "      <td>0.1</td>\n",
       "      <td>98</td>\n",
       "      <td>35</td>\n",
       "      <td>31</td>\n",
       "      <td>6.0</td>\n",
       "      <td>3.2</td>\n",
       "      <td>1.10</td>\n",
       "      <td>1</td>\n",
       "    </tr>\n",
       "    <tr>\n",
       "      <th>580</th>\n",
       "      <td>52</td>\n",
       "      <td>0</td>\n",
       "      <td>0.8</td>\n",
       "      <td>0.2</td>\n",
       "      <td>245</td>\n",
       "      <td>48</td>\n",
       "      <td>49</td>\n",
       "      <td>6.4</td>\n",
       "      <td>3.2</td>\n",
       "      <td>1.00</td>\n",
       "      <td>1</td>\n",
       "    </tr>\n",
       "    <tr>\n",
       "      <th>581</th>\n",
       "      <td>31</td>\n",
       "      <td>0</td>\n",
       "      <td>1.3</td>\n",
       "      <td>0.5</td>\n",
       "      <td>184</td>\n",
       "      <td>29</td>\n",
       "      <td>32</td>\n",
       "      <td>6.8</td>\n",
       "      <td>3.4</td>\n",
       "      <td>1.00</td>\n",
       "      <td>1</td>\n",
       "    </tr>\n",
       "    <tr>\n",
       "      <th>582</th>\n",
       "      <td>38</td>\n",
       "      <td>0</td>\n",
       "      <td>1.0</td>\n",
       "      <td>0.3</td>\n",
       "      <td>216</td>\n",
       "      <td>21</td>\n",
       "      <td>24</td>\n",
       "      <td>7.3</td>\n",
       "      <td>4.4</td>\n",
       "      <td>1.50</td>\n",
       "      <td>2</td>\n",
       "    </tr>\n",
       "  </tbody>\n",
       "</table>\n",
       "<p>583 rows × 11 columns</p>\n",
       "</div>"
      ],
      "text/plain": [
       "     Age  Gender  Tb_Bilirubin  DB_Bilirubin  Alkaline_Phosphotase  Sgpt   \\\n",
       "0     65       1           0.7           0.1                   187     16   \n",
       "1     62       0          10.9           5.5                   699     64   \n",
       "2     62       0           7.3           4.1                   490     60   \n",
       "3     58       0           1.0           0.4                   182     14   \n",
       "4     72       0           3.9           2.0                   195     27   \n",
       "..   ...     ...           ...           ...                   ...    ...   \n",
       "578   60       0           0.5           0.1                   500     20   \n",
       "579   40       0           0.6           0.1                    98     35   \n",
       "580   52       0           0.8           0.2                   245     48   \n",
       "581   31       0           1.3           0.5                   184     29   \n",
       "582   38       0           1.0           0.3                   216     21   \n",
       "\n",
       "     Sgot  Protiens  Albumin  Albumin_Globulin  Split_Label  \n",
       "0      18       6.8      3.3              0.90            1  \n",
       "1     100       7.5      3.2              0.74            1  \n",
       "2      68       7.0      3.3              0.89            1  \n",
       "3      20       6.8      3.4              1.00            1  \n",
       "4      59       7.3      2.4              0.40            1  \n",
       "..    ...       ...      ...               ...          ...  \n",
       "578    34       5.9      1.6              0.37            2  \n",
       "579    31       6.0      3.2              1.10            1  \n",
       "580    49       6.4      3.2              1.00            1  \n",
       "581    32       6.8      3.4              1.00            1  \n",
       "582    24       7.3      4.4              1.50            2  \n",
       "\n",
       "[583 rows x 11 columns]"
      ]
     },
     "execution_count": 164,
     "metadata": {},
     "output_type": "execute_result"
    }
   ],
   "source": [
    "csv"
   ]
  },
  {
   "cell_type": "code",
   "execution_count": 195,
   "metadata": {},
   "outputs": [],
   "source": [
    "#Create Input && output data\n",
    "X_data = csv.drop('Split_Label',axis=1)\n",
    "Y_data = csv['Split_Label']\n"
   ]
  },
  {
   "cell_type": "code",
   "execution_count": 196,
   "metadata": {},
   "outputs": [
    {
     "name": "stdout",
     "output_type": "stream",
     "text": [
      "(466, 10) (117, 10) (466,) (117,)\n"
     ]
    }
   ],
   "source": [
    "#split data\n",
    "from sklearn.model_selection import train_test_split\n",
    "\n",
    "X_train , X_test , Y_train , Y_test =train_test_split(X_data,Y_data , train_size =0.8)\n",
    "\n",
    "print(X_train.shape,X_test.shape,Y_train.shape,Y_test.shape)"
   ]
  },
  {
   "cell_type": "code",
   "execution_count": 197,
   "metadata": {},
   "outputs": [
    {
     "name": "stdout",
     "output_type": "stream",
     "text": [
      "(466, 10) (117, 10) (466,) (117,)\n"
     ]
    }
   ],
   "source": [
    "from sklearn.preprocessing import StandardScaler\n",
    "from sklearn.preprocessing import MinMaxScaler\n",
    "from tensorflow import keras\n",
    "\n",
    "\n",
    "def preprocessing(X_train,Y_train,X_test,Y_test,type=\"MinMax\"):\n",
    "\n",
    "            #NORMALIZATION#\n",
    "    if type == \"Normalization\":\n",
    "        X_train_normalized = tf.keras.utils.normalize(X_train)\n",
    "        X_test_normalized = tf.keras.utils.normalize(X_test)\n",
    "        return X_train_normalized,Y_train,X_test_normalized,Y_test\n",
    "\n",
    "            #NORM-WITH MINMAX#\n",
    "    elif type == \"MinMax\":\n",
    "        scaler = MinMaxScaler(feature_range=(-1, 1))\n",
    "        X_train_minmax = scaler.fit_transform(X_train)\n",
    "        X_test_minmax = scaler.fit_transform(X_test)\n",
    "        return X_train_minmax , Y_train ,X_test_minmax ,Y_test\n",
    "\n",
    "X_train_minmax,Y_train,X_test_minmax,Y_test=preprocessing(X_train,Y_train,X_test,Y_test,type=\"MinMax\")\n",
    "print(X_train_minmax.shape,X_test_minmax.shape,Y_train.shape,Y_test.shape)"
   ]
  },
  {
   "cell_type": "code",
   "execution_count": 200,
   "metadata": {},
   "outputs": [],
   "source": [
    "from sklearn.model_selection import KFold\n",
    "from sklearn.naive_bayes import GaussianNB\n",
    "from sklearn import metrics\n",
    "\n",
    "\n",
    "\n",
    "gnb = GaussianNB()\n",
    "\n",
    "epochs = 10\n",
    "kfold = KFold(n_splits=5, shuffle=False, random_state=None)\n",
    "\n",
    "\n",
    "for train_index, test_index in kfold.split(X_train_minmax,Y_train):  \n",
    "        \n",
    "    #es=EarlyStopping(monitor='val_loss' , mode='min' , verbose=1)\n",
    "    #print(\"TRAIN:\", train_index, \"TEST:\", test_index)\n",
    "    X_train, X_test = X_train_minmax[train_index,:], X_train_minmax[test_index,:]\n",
    "    y_train, y_test = Y_train.iloc[train_index],Y_train.iloc[test_index]\n",
    "    \n",
    "    #MODEL for cross-entropy\n",
    "    gnb = GaussianNB()\n",
    "    history = gnb.fit(X_train_minmax[train_index,:],Y_train.iloc[train_index])\n",
    "    y_train_pred = gnb.predict(X_train)\n",
    "    y_test_pred = gnb.predict(X_test)"
   ]
  },
  {
   "cell_type": "code",
   "execution_count": 201,
   "metadata": {},
   "outputs": [
    {
     "name": "stdout",
     "output_type": "stream",
     "text": [
      "\n",
      " \n",
      "  Naves Bayes Results: \n",
      "Model Accuracy (%): 62.39316239316239\n"
     ]
    }
   ],
   "source": [
    "# Calculate model's accuracy.\n",
    "print('\\n \\n  Naves Bayes Results: ')\n",
    "score = gnb.score(X_test_minmax, Y_test)\n",
    "print('Model Accuracy (%):', 100*score)\n"
   ]
  },
  {
   "cell_type": "code",
   "execution_count": 202,
   "metadata": {},
   "outputs": [],
   "source": [
    "\n",
    "\n",
    "y_test = Y_test.map({1: 1, 2: 0}).astype(int)\n",
    "# Determine the false positive and true positive rates\n",
    "fpr, tpr, _ = metrics.roc_curve(y_test, gnb.predict_proba(X_test_minmax)[:,1 ])\n",
    "# Calculate AUC score.\n",
    "roc_auc = metrics.auc(fpr, tpr)"
   ]
  },
  {
   "cell_type": "code",
   "execution_count": null,
   "metadata": {},
   "outputs": [],
   "source": []
  },
  {
   "cell_type": "code",
   "execution_count": null,
   "metadata": {},
   "outputs": [],
   "source": []
  }
 ],
 "metadata": {
  "interpreter": {
   "hash": "916dbcbb3f70747c44a77c7bcd40155683ae19c65e1c03b4aa3499c5328201f1"
  },
  "kernelspec": {
   "display_name": "Python 3.8.10 64-bit",
   "language": "python",
   "name": "python3"
  },
  "language_info": {
   "codemirror_mode": {
    "name": "ipython",
    "version": 3
   },
   "file_extension": ".py",
   "mimetype": "text/x-python",
   "name": "python",
   "nbconvert_exporter": "python",
   "pygments_lexer": "ipython3",
   "version": "3.8.10"
  },
  "orig_nbformat": 4
 },
 "nbformat": 4,
 "nbformat_minor": 2
}
